{
 "cells": [
  {
   "cell_type": "code",
   "execution_count": 1,
   "id": "4ab451d8",
   "metadata": {},
   "outputs": [],
   "source": [
    "import numpy as np\n",
    "import pandas as pd \n",
    "import matplotlib.pyplot as plt\n",
    "import networkx as nx\n",
    "import time\n",
    "from node2vec import Node2Vec\n",
    "from sklearn.neighbors import KNeighborsClassifier\n",
    "from sklearn.model_selection import KFold, train_test_split\n",
    "from sklearn import metrics "
   ]
  },
  {
   "cell_type": "markdown",
   "id": "0c0f1afc",
   "metadata": {},
   "source": [
    "## Load Data"
   ]
  },
  {
   "cell_type": "code",
   "execution_count": 2,
   "id": "e23f1ebd",
   "metadata": {},
   "outputs": [
    {
     "data": {
      "text/plain": [
       "array(['Genetic_Algorithms', 'Genetic_Algorithms',\n",
       "       'Reinforcement_Learning', ..., 'Rule_Learning', 'Rule_Learning',\n",
       "       'Rule_Learning'], dtype=object)"
      ]
     },
     "execution_count": 2,
     "metadata": {},
     "output_type": "execute_result"
    }
   ],
   "source": [
    "nodes = pd.read_csv('data/cora.content', sep='\\t', header=None)\n",
    "nodes = nodes.rename(columns={0:'id', 1434:'class'})\n",
    "y = nodes[['id','class']]\n",
    "y = y.sort_values(by=['id'])\n",
    "y = np.ravel(np.array(y[['class']]))\n",
    "y"
   ]
  },
  {
   "cell_type": "code",
   "execution_count": 3,
   "id": "96c91bb1",
   "metadata": {},
   "outputs": [
    {
     "name": "stdout",
     "output_type": "stream",
     "text": [
      "Graph named 'cora' with 2708 nodes and 5278 edges\n"
     ]
    }
   ],
   "source": [
    "#networkx graph\n",
    "g = nx.read_gpickle('data/cora.gml')\n",
    "print(g)"
   ]
  },
  {
   "cell_type": "markdown",
   "id": "6c32bd81",
   "metadata": {},
   "source": [
    "## Define pipeline for grid search"
   ]
  },
  {
   "cell_type": "code",
   "execution_count": 4,
   "id": "3a0e86c1",
   "metadata": {},
   "outputs": [],
   "source": [
    "# Pipeline Search for best parameters\n",
    "def pipeline(transformer, classifier, EMBEDDING_FILENAME):\n",
    "    # Generate embeddings\n",
    "    model = transformer.fit(window=10, min_count=1, batch_words=4)\n",
    "    model.wv.save_word2vec_format(EMBEDDING_FILENAME)\n",
    "        \n",
    "    # Read embeddings\n",
    "    emb_df = pd.read_csv(EMBEDDING_FILENAME, sep=' ', skiprows=[0], header=None)\n",
    "    emb_df = emb_df.sort_values(by=[0])\n",
    "    emb_df = emb_df.drop(emb_df.columns[0], axis=1)\n",
    "    \n",
    "    # Run classifier on embeddings\n",
    "    # k-fold validation\n",
    "    i = 1\n",
    "    acc = 0\n",
    "    kf = KFold(n_splits=3, shuffle=True)\n",
    "    \n",
    "    for train, test in kf.split(emb_df):\n",
    "        print(\"Running classification on split \", i)\n",
    "        X_train, X_test = emb_df.iloc[train], emb_df.iloc[test]\n",
    "        y_train, y_test = y[train], y[test]\n",
    "        \n",
    "        classifier.fit(X_train, y_train)\n",
    "        y_pred = classifier.predict(X_test)\n",
    "        y_prob = classifier.predict_proba(X_test)\n",
    "        \n",
    "        acc_fold = metrics.accuracy_score(y_test, y_pred)\n",
    "        \n",
    "        acc += acc_fold\n",
    "        i += 1\n",
    "        \n",
    "    acc = acc/3\n",
    "    \n",
    "    return acc"
   ]
  },
  {
   "cell_type": "code",
   "execution_count": 5,
   "id": "c6cc8e98",
   "metadata": {
    "scrolled": false
   },
   "outputs": [
    {
     "data": {
      "application/vnd.jupyter.widget-view+json": {
       "model_id": "56cfd06cfee0485e9366eeeb5972ba77",
       "version_major": 2,
       "version_minor": 0
      },
      "text/plain": [
       "Computing transition probabilities:   0%|          | 0/2708 [00:00<?, ?it/s]"
      ]
     },
     "metadata": {},
     "output_type": "display_data"
    },
    {
     "name": "stderr",
     "output_type": "stream",
     "text": [
      "Generating walks (CPU: 1): 100%|██████████████| 100/100 [00:19<00:00,  5.23it/s]\n"
     ]
    },
    {
     "name": "stdout",
     "output_type": "stream",
     "text": [
      "[128, 20, 100, 0.25, 0.25]\n",
      "Running classification on split  1\n",
      "Running classification on split  2\n",
      "Running classification on split  3\n"
     ]
    },
    {
     "data": {
      "application/vnd.jupyter.widget-view+json": {
       "model_id": "b9c419e4d8ad47a1982b39c927a4ddb0",
       "version_major": 2,
       "version_minor": 0
      },
      "text/plain": [
       "Computing transition probabilities:   0%|          | 0/2708 [00:00<?, ?it/s]"
      ]
     },
     "metadata": {},
     "output_type": "display_data"
    },
    {
     "name": "stderr",
     "output_type": "stream",
     "text": [
      "Generating walks (CPU: 1): 100%|██████████████| 100/100 [00:19<00:00,  5.14it/s]\n"
     ]
    },
    {
     "name": "stdout",
     "output_type": "stream",
     "text": [
      "[128, 20, 100, 0.25, 0.5]\n",
      "Running classification on split  1\n",
      "Running classification on split  2\n",
      "Running classification on split  3\n"
     ]
    },
    {
     "data": {
      "application/vnd.jupyter.widget-view+json": {
       "model_id": "ae64ec4333f1429c893b2088688494c8",
       "version_major": 2,
       "version_minor": 0
      },
      "text/plain": [
       "Computing transition probabilities:   0%|          | 0/2708 [00:00<?, ?it/s]"
      ]
     },
     "metadata": {},
     "output_type": "display_data"
    },
    {
     "name": "stderr",
     "output_type": "stream",
     "text": [
      "Generating walks (CPU: 1): 100%|██████████████| 100/100 [00:19<00:00,  5.06it/s]\n"
     ]
    },
    {
     "name": "stdout",
     "output_type": "stream",
     "text": [
      "[128, 20, 100, 0.25, 1]\n",
      "Running classification on split  1\n",
      "Running classification on split  2\n",
      "Running classification on split  3\n"
     ]
    },
    {
     "data": {
      "application/vnd.jupyter.widget-view+json": {
       "model_id": "2bf41598dd1540dea896a6cf747cff50",
       "version_major": 2,
       "version_minor": 0
      },
      "text/plain": [
       "Computing transition probabilities:   0%|          | 0/2708 [00:00<?, ?it/s]"
      ]
     },
     "metadata": {},
     "output_type": "display_data"
    },
    {
     "name": "stderr",
     "output_type": "stream",
     "text": [
      "Generating walks (CPU: 1): 100%|██████████████| 100/100 [00:19<00:00,  5.07it/s]\n"
     ]
    },
    {
     "name": "stdout",
     "output_type": "stream",
     "text": [
      "[128, 20, 100, 0.25, 2]\n",
      "Running classification on split  1\n",
      "Running classification on split  2\n",
      "Running classification on split  3\n"
     ]
    },
    {
     "data": {
      "application/vnd.jupyter.widget-view+json": {
       "model_id": "055cdfd481f24639a7515f7698764fbf",
       "version_major": 2,
       "version_minor": 0
      },
      "text/plain": [
       "Computing transition probabilities:   0%|          | 0/2708 [00:00<?, ?it/s]"
      ]
     },
     "metadata": {},
     "output_type": "display_data"
    },
    {
     "name": "stderr",
     "output_type": "stream",
     "text": [
      "Generating walks (CPU: 1): 100%|██████████████| 100/100 [00:20<00:00,  4.89it/s]\n"
     ]
    },
    {
     "name": "stdout",
     "output_type": "stream",
     "text": [
      "[128, 20, 100, 0.25, 4]\n",
      "Running classification on split  1\n",
      "Running classification on split  2\n",
      "Running classification on split  3\n"
     ]
    },
    {
     "data": {
      "application/vnd.jupyter.widget-view+json": {
       "model_id": "e6cf98689c21433a8a729da20739145b",
       "version_major": 2,
       "version_minor": 0
      },
      "text/plain": [
       "Computing transition probabilities:   0%|          | 0/2708 [00:00<?, ?it/s]"
      ]
     },
     "metadata": {},
     "output_type": "display_data"
    },
    {
     "name": "stderr",
     "output_type": "stream",
     "text": [
      "Generating walks (CPU: 1): 100%|██████████████| 100/100 [00:19<00:00,  5.05it/s]\n"
     ]
    },
    {
     "name": "stdout",
     "output_type": "stream",
     "text": [
      "[128, 20, 100, 0.5, 0.25]\n",
      "Running classification on split  1\n",
      "Running classification on split  2\n",
      "Running classification on split  3\n"
     ]
    },
    {
     "data": {
      "application/vnd.jupyter.widget-view+json": {
       "model_id": "ccdec2cb507d405197172133e2501fb8",
       "version_major": 2,
       "version_minor": 0
      },
      "text/plain": [
       "Computing transition probabilities:   0%|          | 0/2708 [00:00<?, ?it/s]"
      ]
     },
     "metadata": {},
     "output_type": "display_data"
    },
    {
     "name": "stderr",
     "output_type": "stream",
     "text": [
      "Generating walks (CPU: 1): 100%|██████████████| 100/100 [00:19<00:00,  5.07it/s]\n"
     ]
    },
    {
     "name": "stdout",
     "output_type": "stream",
     "text": [
      "[128, 20, 100, 0.5, 0.5]\n",
      "Running classification on split  1\n",
      "Running classification on split  2\n",
      "Running classification on split  3\n"
     ]
    },
    {
     "data": {
      "application/vnd.jupyter.widget-view+json": {
       "model_id": "80051463aa8d4a9a87a9c051d070aff2",
       "version_major": 2,
       "version_minor": 0
      },
      "text/plain": [
       "Computing transition probabilities:   0%|          | 0/2708 [00:00<?, ?it/s]"
      ]
     },
     "metadata": {},
     "output_type": "display_data"
    },
    {
     "name": "stderr",
     "output_type": "stream",
     "text": [
      "Generating walks (CPU: 1): 100%|██████████████| 100/100 [00:19<00:00,  5.13it/s]\n"
     ]
    },
    {
     "name": "stdout",
     "output_type": "stream",
     "text": [
      "[128, 20, 100, 0.5, 1]\n",
      "Running classification on split  1\n",
      "Running classification on split  2\n",
      "Running classification on split  3\n"
     ]
    },
    {
     "data": {
      "application/vnd.jupyter.widget-view+json": {
       "model_id": "a705fa25d3e7402e9fc355ef5042db96",
       "version_major": 2,
       "version_minor": 0
      },
      "text/plain": [
       "Computing transition probabilities:   0%|          | 0/2708 [00:00<?, ?it/s]"
      ]
     },
     "metadata": {},
     "output_type": "display_data"
    },
    {
     "name": "stderr",
     "output_type": "stream",
     "text": [
      "Generating walks (CPU: 1): 100%|██████████████| 100/100 [00:19<00:00,  5.08it/s]\n"
     ]
    },
    {
     "name": "stdout",
     "output_type": "stream",
     "text": [
      "[128, 20, 100, 0.5, 2]\n",
      "Running classification on split  1\n",
      "Running classification on split  2\n",
      "Running classification on split  3\n"
     ]
    },
    {
     "data": {
      "application/vnd.jupyter.widget-view+json": {
       "model_id": "9af195627b824f2aae9f687de11bd59e",
       "version_major": 2,
       "version_minor": 0
      },
      "text/plain": [
       "Computing transition probabilities:   0%|          | 0/2708 [00:00<?, ?it/s]"
      ]
     },
     "metadata": {},
     "output_type": "display_data"
    },
    {
     "name": "stderr",
     "output_type": "stream",
     "text": [
      "Generating walks (CPU: 1): 100%|██████████████| 100/100 [00:19<00:00,  5.11it/s]\n"
     ]
    },
    {
     "name": "stdout",
     "output_type": "stream",
     "text": [
      "[128, 20, 100, 0.5, 4]\n",
      "Running classification on split  1\n",
      "Running classification on split  2\n",
      "Running classification on split  3\n"
     ]
    },
    {
     "data": {
      "application/vnd.jupyter.widget-view+json": {
       "model_id": "3b890261498240b1a57ab18deb3f16a7",
       "version_major": 2,
       "version_minor": 0
      },
      "text/plain": [
       "Computing transition probabilities:   0%|          | 0/2708 [00:00<?, ?it/s]"
      ]
     },
     "metadata": {},
     "output_type": "display_data"
    },
    {
     "name": "stderr",
     "output_type": "stream",
     "text": [
      "Generating walks (CPU: 1): 100%|██████████████| 100/100 [00:19<00:00,  5.12it/s]\n"
     ]
    },
    {
     "name": "stdout",
     "output_type": "stream",
     "text": [
      "[128, 20, 100, 1, 0.25]\n",
      "Running classification on split  1\n",
      "Running classification on split  2\n",
      "Running classification on split  3\n"
     ]
    },
    {
     "data": {
      "application/vnd.jupyter.widget-view+json": {
       "model_id": "80735fa744d54d07b49df7d19ba2ad3a",
       "version_major": 2,
       "version_minor": 0
      },
      "text/plain": [
       "Computing transition probabilities:   0%|          | 0/2708 [00:00<?, ?it/s]"
      ]
     },
     "metadata": {},
     "output_type": "display_data"
    },
    {
     "name": "stderr",
     "output_type": "stream",
     "text": [
      "Generating walks (CPU: 1): 100%|██████████████| 100/100 [00:19<00:00,  5.09it/s]\n"
     ]
    },
    {
     "name": "stdout",
     "output_type": "stream",
     "text": [
      "[128, 20, 100, 1, 0.5]\n",
      "Running classification on split  1\n",
      "Running classification on split  2\n",
      "Running classification on split  3\n"
     ]
    },
    {
     "data": {
      "application/vnd.jupyter.widget-view+json": {
       "model_id": "1ddcf422a1814582bbd04cdd5e00f05b",
       "version_major": 2,
       "version_minor": 0
      },
      "text/plain": [
       "Computing transition probabilities:   0%|          | 0/2708 [00:00<?, ?it/s]"
      ]
     },
     "metadata": {},
     "output_type": "display_data"
    },
    {
     "name": "stderr",
     "output_type": "stream",
     "text": [
      "Generating walks (CPU: 1): 100%|██████████████| 100/100 [00:19<00:00,  5.10it/s]\n"
     ]
    },
    {
     "name": "stdout",
     "output_type": "stream",
     "text": [
      "[128, 20, 100, 1, 1]\n",
      "Running classification on split  1\n",
      "Running classification on split  2\n",
      "Running classification on split  3\n"
     ]
    },
    {
     "data": {
      "application/vnd.jupyter.widget-view+json": {
       "model_id": "88d38ac8bbaf42209a4b89c17d5cb4a8",
       "version_major": 2,
       "version_minor": 0
      },
      "text/plain": [
       "Computing transition probabilities:   0%|          | 0/2708 [00:00<?, ?it/s]"
      ]
     },
     "metadata": {},
     "output_type": "display_data"
    },
    {
     "name": "stderr",
     "output_type": "stream",
     "text": [
      "Generating walks (CPU: 1): 100%|██████████████| 100/100 [00:19<00:00,  5.09it/s]\n"
     ]
    },
    {
     "name": "stdout",
     "output_type": "stream",
     "text": [
      "[128, 20, 100, 1, 2]\n",
      "Running classification on split  1\n",
      "Running classification on split  2\n",
      "Running classification on split  3\n"
     ]
    },
    {
     "data": {
      "application/vnd.jupyter.widget-view+json": {
       "model_id": "572abce644534b17a446ba0d3b8b1f9c",
       "version_major": 2,
       "version_minor": 0
      },
      "text/plain": [
       "Computing transition probabilities:   0%|          | 0/2708 [00:00<?, ?it/s]"
      ]
     },
     "metadata": {},
     "output_type": "display_data"
    },
    {
     "name": "stderr",
     "output_type": "stream",
     "text": [
      "Generating walks (CPU: 1): 100%|██████████████| 100/100 [00:19<00:00,  5.09it/s]\n"
     ]
    },
    {
     "name": "stdout",
     "output_type": "stream",
     "text": [
      "[128, 20, 100, 1, 4]\n",
      "Running classification on split  1\n",
      "Running classification on split  2\n",
      "Running classification on split  3\n"
     ]
    },
    {
     "data": {
      "application/vnd.jupyter.widget-view+json": {
       "model_id": "b846ba54e793433da6e4759dbbd6a56b",
       "version_major": 2,
       "version_minor": 0
      },
      "text/plain": [
       "Computing transition probabilities:   0%|          | 0/2708 [00:00<?, ?it/s]"
      ]
     },
     "metadata": {},
     "output_type": "display_data"
    },
    {
     "name": "stderr",
     "output_type": "stream",
     "text": [
      "Generating walks (CPU: 1): 100%|██████████████| 100/100 [00:19<00:00,  5.12it/s]\n"
     ]
    },
    {
     "name": "stdout",
     "output_type": "stream",
     "text": [
      "[128, 20, 100, 2, 0.25]\n",
      "Running classification on split  1\n",
      "Running classification on split  2\n",
      "Running classification on split  3\n"
     ]
    },
    {
     "data": {
      "application/vnd.jupyter.widget-view+json": {
       "model_id": "c399ff33ef9b49959757b389c7005640",
       "version_major": 2,
       "version_minor": 0
      },
      "text/plain": [
       "Computing transition probabilities:   0%|          | 0/2708 [00:00<?, ?it/s]"
      ]
     },
     "metadata": {},
     "output_type": "display_data"
    },
    {
     "name": "stderr",
     "output_type": "stream",
     "text": [
      "Generating walks (CPU: 1): 100%|██████████████| 100/100 [00:19<00:00,  5.16it/s]\n"
     ]
    },
    {
     "name": "stdout",
     "output_type": "stream",
     "text": [
      "[128, 20, 100, 2, 0.5]\n",
      "Running classification on split  1\n",
      "Running classification on split  2\n",
      "Running classification on split  3\n"
     ]
    },
    {
     "data": {
      "application/vnd.jupyter.widget-view+json": {
       "model_id": "dfe5772d09a9445687e712184df3ebb1",
       "version_major": 2,
       "version_minor": 0
      },
      "text/plain": [
       "Computing transition probabilities:   0%|          | 0/2708 [00:00<?, ?it/s]"
      ]
     },
     "metadata": {},
     "output_type": "display_data"
    },
    {
     "name": "stderr",
     "output_type": "stream",
     "text": [
      "Generating walks (CPU: 1): 100%|██████████████| 100/100 [00:20<00:00,  4.99it/s]\n"
     ]
    },
    {
     "name": "stdout",
     "output_type": "stream",
     "text": [
      "[128, 20, 100, 2, 1]\n",
      "Running classification on split  1\n",
      "Running classification on split  2\n",
      "Running classification on split  3\n"
     ]
    },
    {
     "data": {
      "application/vnd.jupyter.widget-view+json": {
       "model_id": "20d6a609e77e4582b91fa66418b7909d",
       "version_major": 2,
       "version_minor": 0
      },
      "text/plain": [
       "Computing transition probabilities:   0%|          | 0/2708 [00:00<?, ?it/s]"
      ]
     },
     "metadata": {},
     "output_type": "display_data"
    },
    {
     "name": "stderr",
     "output_type": "stream",
     "text": [
      "Generating walks (CPU: 1): 100%|██████████████| 100/100 [00:19<00:00,  5.04it/s]\n"
     ]
    },
    {
     "name": "stdout",
     "output_type": "stream",
     "text": [
      "[128, 20, 100, 2, 2]\n",
      "Running classification on split  1\n",
      "Running classification on split  2\n",
      "Running classification on split  3\n"
     ]
    },
    {
     "data": {
      "application/vnd.jupyter.widget-view+json": {
       "model_id": "ebd3dfe236a64fb6ad36f244887ae843",
       "version_major": 2,
       "version_minor": 0
      },
      "text/plain": [
       "Computing transition probabilities:   0%|          | 0/2708 [00:00<?, ?it/s]"
      ]
     },
     "metadata": {},
     "output_type": "display_data"
    },
    {
     "name": "stderr",
     "output_type": "stream",
     "text": [
      "Generating walks (CPU: 1): 100%|██████████████| 100/100 [00:20<00:00,  4.99it/s]\n"
     ]
    },
    {
     "name": "stdout",
     "output_type": "stream",
     "text": [
      "[128, 20, 100, 2, 4]\n",
      "Running classification on split  1\n",
      "Running classification on split  2\n",
      "Running classification on split  3\n"
     ]
    },
    {
     "data": {
      "application/vnd.jupyter.widget-view+json": {
       "model_id": "390afcd14bfc4947875661e499a89675",
       "version_major": 2,
       "version_minor": 0
      },
      "text/plain": [
       "Computing transition probabilities:   0%|          | 0/2708 [00:00<?, ?it/s]"
      ]
     },
     "metadata": {},
     "output_type": "display_data"
    },
    {
     "name": "stderr",
     "output_type": "stream",
     "text": [
      "Generating walks (CPU: 1): 100%|██████████████| 100/100 [00:19<00:00,  5.09it/s]\n"
     ]
    },
    {
     "name": "stdout",
     "output_type": "stream",
     "text": [
      "[128, 20, 100, 4, 0.25]\n",
      "Running classification on split  1\n",
      "Running classification on split  2\n",
      "Running classification on split  3\n"
     ]
    },
    {
     "data": {
      "application/vnd.jupyter.widget-view+json": {
       "model_id": "0acf8d2fb1c4417f9dbe22b7a605df0a",
       "version_major": 2,
       "version_minor": 0
      },
      "text/plain": [
       "Computing transition probabilities:   0%|          | 0/2708 [00:00<?, ?it/s]"
      ]
     },
     "metadata": {},
     "output_type": "display_data"
    },
    {
     "name": "stderr",
     "output_type": "stream",
     "text": [
      "Generating walks (CPU: 1): 100%|██████████████| 100/100 [00:19<00:00,  5.04it/s]\n"
     ]
    },
    {
     "name": "stdout",
     "output_type": "stream",
     "text": [
      "[128, 20, 100, 4, 0.5]\n",
      "Running classification on split  1\n",
      "Running classification on split  2\n",
      "Running classification on split  3\n"
     ]
    },
    {
     "data": {
      "application/vnd.jupyter.widget-view+json": {
       "model_id": "49bb91710a4d43d0beb4c81a23fe5492",
       "version_major": 2,
       "version_minor": 0
      },
      "text/plain": [
       "Computing transition probabilities:   0%|          | 0/2708 [00:00<?, ?it/s]"
      ]
     },
     "metadata": {},
     "output_type": "display_data"
    },
    {
     "name": "stderr",
     "output_type": "stream",
     "text": [
      "Generating walks (CPU: 1): 100%|██████████████| 100/100 [00:19<00:00,  5.07it/s]\n"
     ]
    },
    {
     "name": "stdout",
     "output_type": "stream",
     "text": [
      "[128, 20, 100, 4, 1]\n",
      "Running classification on split  1\n",
      "Running classification on split  2\n",
      "Running classification on split  3\n"
     ]
    },
    {
     "data": {
      "application/vnd.jupyter.widget-view+json": {
       "model_id": "74da9fd13c484fd5a939354d23b71801",
       "version_major": 2,
       "version_minor": 0
      },
      "text/plain": [
       "Computing transition probabilities:   0%|          | 0/2708 [00:00<?, ?it/s]"
      ]
     },
     "metadata": {},
     "output_type": "display_data"
    },
    {
     "name": "stderr",
     "output_type": "stream",
     "text": [
      "Generating walks (CPU: 1): 100%|██████████████| 100/100 [00:19<00:00,  5.01it/s]\n"
     ]
    },
    {
     "name": "stdout",
     "output_type": "stream",
     "text": [
      "[128, 20, 100, 4, 2]\n",
      "Running classification on split  1\n",
      "Running classification on split  2\n",
      "Running classification on split  3\n"
     ]
    },
    {
     "data": {
      "application/vnd.jupyter.widget-view+json": {
       "model_id": "36fd56bb53c0407fabde68e2500d45df",
       "version_major": 2,
       "version_minor": 0
      },
      "text/plain": [
       "Computing transition probabilities:   0%|          | 0/2708 [00:00<?, ?it/s]"
      ]
     },
     "metadata": {},
     "output_type": "display_data"
    },
    {
     "name": "stderr",
     "output_type": "stream",
     "text": [
      "Generating walks (CPU: 1): 100%|██████████████| 100/100 [00:19<00:00,  5.00it/s]\n"
     ]
    },
    {
     "name": "stdout",
     "output_type": "stream",
     "text": [
      "[128, 20, 100, 4, 4]\n",
      "Running classification on split  1\n",
      "Running classification on split  2\n",
      "Running classification on split  3\n"
     ]
    }
   ],
   "source": [
    "# Define downstream classification model\n",
    "knn = KNeighborsClassifier(metric='euclidean', n_neighbors=4, weights='distance')\n",
    "\n",
    "# parameters dict for node2vec\n",
    "dimensions = 128\n",
    "walk_length = 20\n",
    "num_walks = 100\n",
    "\n",
    "acc_hist = []\n",
    "time_hist = []\n",
    "parameter_hist = []\n",
    "\n",
    "for p in [0.25,0.50,1,2,4]:\n",
    "    for q in [0.25,0.50,1,2,4]:\n",
    "        # create node2vec model\n",
    "        node2vec = Node2Vec(graph=g, dimensions=dimensions, walk_length=walk_length, num_walks=num_walks,\n",
    "                            p=p, q=q, seed=0)\n",
    "        parameters=[dimensions,walk_length,num_walks,p,q]\n",
    "        print(parameters)\n",
    "        parameter_hist.append(parameters)\n",
    "        \n",
    "        # filename\n",
    "        EMBEDDING_FILENAME = \"embedding/\" + str(parameters) + \".txt\"\n",
    "        \n",
    "        # run pipeline\n",
    "        start = time.time()\n",
    "        acc_model = pipeline(transformer=node2vec, classifier=knn, EMBEDDING_FILENAME=EMBEDDING_FILENAME)\n",
    "        end = time.time()\n",
    "        \n",
    "        acc_hist.append(acc_model)\n",
    "        time_hist.append(end-start)     "
   ]
  },
  {
   "cell_type": "markdown",
   "id": "9f90a4c1",
   "metadata": {},
   "source": [
    "## Grid search results"
   ]
  },
  {
   "cell_type": "code",
   "execution_count": 6,
   "id": "09c1f470",
   "metadata": {},
   "outputs": [
    {
     "data": {
      "text/html": [
       "<div>\n",
       "<style scoped>\n",
       "    .dataframe tbody tr th:only-of-type {\n",
       "        vertical-align: middle;\n",
       "    }\n",
       "\n",
       "    .dataframe tbody tr th {\n",
       "        vertical-align: top;\n",
       "    }\n",
       "\n",
       "    .dataframe thead th {\n",
       "        text-align: right;\n",
       "    }\n",
       "</style>\n",
       "<table border=\"1\" class=\"dataframe\">\n",
       "  <thead>\n",
       "    <tr style=\"text-align: right;\">\n",
       "      <th></th>\n",
       "      <th>dimensions</th>\n",
       "      <th>walk_length</th>\n",
       "      <th>num_walks</th>\n",
       "      <th>p</th>\n",
       "      <th>q</th>\n",
       "      <th>accuracy</th>\n",
       "      <th>time</th>\n",
       "    </tr>\n",
       "  </thead>\n",
       "  <tbody>\n",
       "    <tr>\n",
       "      <th>0</th>\n",
       "      <td>128</td>\n",
       "      <td>20</td>\n",
       "      <td>100</td>\n",
       "      <td>0.25</td>\n",
       "      <td>0.25</td>\n",
       "      <td>84.60</td>\n",
       "      <td>182.88</td>\n",
       "    </tr>\n",
       "    <tr>\n",
       "      <th>1</th>\n",
       "      <td>128</td>\n",
       "      <td>20</td>\n",
       "      <td>100</td>\n",
       "      <td>0.25</td>\n",
       "      <td>0.50</td>\n",
       "      <td>83.94</td>\n",
       "      <td>178.27</td>\n",
       "    </tr>\n",
       "    <tr>\n",
       "      <th>2</th>\n",
       "      <td>128</td>\n",
       "      <td>20</td>\n",
       "      <td>100</td>\n",
       "      <td>0.25</td>\n",
       "      <td>1.00</td>\n",
       "      <td>83.31</td>\n",
       "      <td>171.44</td>\n",
       "    </tr>\n",
       "    <tr>\n",
       "      <th>3</th>\n",
       "      <td>128</td>\n",
       "      <td>20</td>\n",
       "      <td>100</td>\n",
       "      <td>0.25</td>\n",
       "      <td>2.00</td>\n",
       "      <td>84.31</td>\n",
       "      <td>164.92</td>\n",
       "    </tr>\n",
       "    <tr>\n",
       "      <th>4</th>\n",
       "      <td>128</td>\n",
       "      <td>20</td>\n",
       "      <td>100</td>\n",
       "      <td>0.25</td>\n",
       "      <td>4.00</td>\n",
       "      <td>83.27</td>\n",
       "      <td>162.17</td>\n",
       "    </tr>\n",
       "    <tr>\n",
       "      <th>5</th>\n",
       "      <td>128</td>\n",
       "      <td>20</td>\n",
       "      <td>100</td>\n",
       "      <td>0.50</td>\n",
       "      <td>0.25</td>\n",
       "      <td>84.08</td>\n",
       "      <td>195.68</td>\n",
       "    </tr>\n",
       "    <tr>\n",
       "      <th>6</th>\n",
       "      <td>128</td>\n",
       "      <td>20</td>\n",
       "      <td>100</td>\n",
       "      <td>0.50</td>\n",
       "      <td>0.50</td>\n",
       "      <td>84.12</td>\n",
       "      <td>182.95</td>\n",
       "    </tr>\n",
       "    <tr>\n",
       "      <th>7</th>\n",
       "      <td>128</td>\n",
       "      <td>20</td>\n",
       "      <td>100</td>\n",
       "      <td>0.50</td>\n",
       "      <td>1.00</td>\n",
       "      <td>84.16</td>\n",
       "      <td>177.17</td>\n",
       "    </tr>\n",
       "    <tr>\n",
       "      <th>8</th>\n",
       "      <td>128</td>\n",
       "      <td>20</td>\n",
       "      <td>100</td>\n",
       "      <td>0.50</td>\n",
       "      <td>2.00</td>\n",
       "      <td>84.23</td>\n",
       "      <td>171.84</td>\n",
       "    </tr>\n",
       "    <tr>\n",
       "      <th>9</th>\n",
       "      <td>128</td>\n",
       "      <td>20</td>\n",
       "      <td>100</td>\n",
       "      <td>0.50</td>\n",
       "      <td>4.00</td>\n",
       "      <td>83.72</td>\n",
       "      <td>162.97</td>\n",
       "    </tr>\n",
       "    <tr>\n",
       "      <th>10</th>\n",
       "      <td>128</td>\n",
       "      <td>20</td>\n",
       "      <td>100</td>\n",
       "      <td>1.00</td>\n",
       "      <td>0.25</td>\n",
       "      <td>84.42</td>\n",
       "      <td>187.13</td>\n",
       "    </tr>\n",
       "    <tr>\n",
       "      <th>11</th>\n",
       "      <td>128</td>\n",
       "      <td>20</td>\n",
       "      <td>100</td>\n",
       "      <td>1.00</td>\n",
       "      <td>0.50</td>\n",
       "      <td>84.23</td>\n",
       "      <td>184.35</td>\n",
       "    </tr>\n",
       "    <tr>\n",
       "      <th>12</th>\n",
       "      <td>128</td>\n",
       "      <td>20</td>\n",
       "      <td>100</td>\n",
       "      <td>1.00</td>\n",
       "      <td>1.00</td>\n",
       "      <td>84.57</td>\n",
       "      <td>181.25</td>\n",
       "    </tr>\n",
       "    <tr>\n",
       "      <th>13</th>\n",
       "      <td>128</td>\n",
       "      <td>20</td>\n",
       "      <td>100</td>\n",
       "      <td>1.00</td>\n",
       "      <td>2.00</td>\n",
       "      <td>84.34</td>\n",
       "      <td>175.87</td>\n",
       "    </tr>\n",
       "    <tr>\n",
       "      <th>14</th>\n",
       "      <td>128</td>\n",
       "      <td>20</td>\n",
       "      <td>100</td>\n",
       "      <td>1.00</td>\n",
       "      <td>4.00</td>\n",
       "      <td>84.01</td>\n",
       "      <td>168.51</td>\n",
       "    </tr>\n",
       "    <tr>\n",
       "      <th>15</th>\n",
       "      <td>128</td>\n",
       "      <td>20</td>\n",
       "      <td>100</td>\n",
       "      <td>2.00</td>\n",
       "      <td>0.25</td>\n",
       "      <td>84.34</td>\n",
       "      <td>186.68</td>\n",
       "    </tr>\n",
       "    <tr>\n",
       "      <th>16</th>\n",
       "      <td>128</td>\n",
       "      <td>20</td>\n",
       "      <td>100</td>\n",
       "      <td>2.00</td>\n",
       "      <td>0.50</td>\n",
       "      <td>84.34</td>\n",
       "      <td>188.25</td>\n",
       "    </tr>\n",
       "    <tr>\n",
       "      <th>17</th>\n",
       "      <td>128</td>\n",
       "      <td>20</td>\n",
       "      <td>100</td>\n",
       "      <td>2.00</td>\n",
       "      <td>1.00</td>\n",
       "      <td>84.57</td>\n",
       "      <td>184.49</td>\n",
       "    </tr>\n",
       "    <tr>\n",
       "      <th>18</th>\n",
       "      <td>128</td>\n",
       "      <td>20</td>\n",
       "      <td>100</td>\n",
       "      <td>2.00</td>\n",
       "      <td>2.00</td>\n",
       "      <td>84.34</td>\n",
       "      <td>180.72</td>\n",
       "    </tr>\n",
       "    <tr>\n",
       "      <th>19</th>\n",
       "      <td>128</td>\n",
       "      <td>20</td>\n",
       "      <td>100</td>\n",
       "      <td>2.00</td>\n",
       "      <td>4.00</td>\n",
       "      <td>84.23</td>\n",
       "      <td>174.99</td>\n",
       "    </tr>\n",
       "    <tr>\n",
       "      <th>20</th>\n",
       "      <td>128</td>\n",
       "      <td>20</td>\n",
       "      <td>100</td>\n",
       "      <td>4.00</td>\n",
       "      <td>0.25</td>\n",
       "      <td>84.82</td>\n",
       "      <td>188.36</td>\n",
       "    </tr>\n",
       "    <tr>\n",
       "      <th>21</th>\n",
       "      <td>128</td>\n",
       "      <td>20</td>\n",
       "      <td>100</td>\n",
       "      <td>4.00</td>\n",
       "      <td>0.50</td>\n",
       "      <td>84.31</td>\n",
       "      <td>187.51</td>\n",
       "    </tr>\n",
       "    <tr>\n",
       "      <th>22</th>\n",
       "      <td>128</td>\n",
       "      <td>20</td>\n",
       "      <td>100</td>\n",
       "      <td>4.00</td>\n",
       "      <td>1.00</td>\n",
       "      <td>84.79</td>\n",
       "      <td>185.91</td>\n",
       "    </tr>\n",
       "    <tr>\n",
       "      <th>23</th>\n",
       "      <td>128</td>\n",
       "      <td>20</td>\n",
       "      <td>100</td>\n",
       "      <td>4.00</td>\n",
       "      <td>2.00</td>\n",
       "      <td>84.08</td>\n",
       "      <td>182.96</td>\n",
       "    </tr>\n",
       "    <tr>\n",
       "      <th>24</th>\n",
       "      <td>128</td>\n",
       "      <td>20</td>\n",
       "      <td>100</td>\n",
       "      <td>4.00</td>\n",
       "      <td>4.00</td>\n",
       "      <td>84.42</td>\n",
       "      <td>178.80</td>\n",
       "    </tr>\n",
       "  </tbody>\n",
       "</table>\n",
       "</div>"
      ],
      "text/plain": [
       "    dimensions  walk_length  num_walks     p     q  accuracy    time\n",
       "0          128           20        100  0.25  0.25     84.60  182.88\n",
       "1          128           20        100  0.25  0.50     83.94  178.27\n",
       "2          128           20        100  0.25  1.00     83.31  171.44\n",
       "3          128           20        100  0.25  2.00     84.31  164.92\n",
       "4          128           20        100  0.25  4.00     83.27  162.17\n",
       "5          128           20        100  0.50  0.25     84.08  195.68\n",
       "6          128           20        100  0.50  0.50     84.12  182.95\n",
       "7          128           20        100  0.50  1.00     84.16  177.17\n",
       "8          128           20        100  0.50  2.00     84.23  171.84\n",
       "9          128           20        100  0.50  4.00     83.72  162.97\n",
       "10         128           20        100  1.00  0.25     84.42  187.13\n",
       "11         128           20        100  1.00  0.50     84.23  184.35\n",
       "12         128           20        100  1.00  1.00     84.57  181.25\n",
       "13         128           20        100  1.00  2.00     84.34  175.87\n",
       "14         128           20        100  1.00  4.00     84.01  168.51\n",
       "15         128           20        100  2.00  0.25     84.34  186.68\n",
       "16         128           20        100  2.00  0.50     84.34  188.25\n",
       "17         128           20        100  2.00  1.00     84.57  184.49\n",
       "18         128           20        100  2.00  2.00     84.34  180.72\n",
       "19         128           20        100  2.00  4.00     84.23  174.99\n",
       "20         128           20        100  4.00  0.25     84.82  188.36\n",
       "21         128           20        100  4.00  0.50     84.31  187.51\n",
       "22         128           20        100  4.00  1.00     84.79  185.91\n",
       "23         128           20        100  4.00  2.00     84.08  182.96\n",
       "24         128           20        100  4.00  4.00     84.42  178.80"
      ]
     },
     "execution_count": 6,
     "metadata": {},
     "output_type": "execute_result"
    }
   ],
   "source": [
    "para_df = pd.DataFrame(parameter_hist, columns=['dimensions','walk_length','num_walks','p','q'])\n",
    "para_df['accuracy'] = acc_hist\n",
    "para_df['time'] = time_hist\n",
    "para_df['accuracy'] = para_df['accuracy'] * 100\n",
    "para_df = para_df.round(2)\n",
    "para_df"
   ]
  },
  {
   "cell_type": "code",
   "execution_count": 7,
   "id": "81995f90",
   "metadata": {},
   "outputs": [
    {
     "name": "stderr",
     "output_type": "stream",
     "text": [
      "[1206/230934.222310:ERROR:xattr.cc(63)] setxattr org.chromium.crashpad.database.initialized on file /var/folders/76/p5884tp57fj2wy8qn17tpc6c0000gn/T/: Operation not permitted (1)\n",
      "[1206/230934.225604:ERROR:file_io.cc(94)] ReadExactly: expected 8, observed 0\n",
      "[1206/230934.226518:ERROR:xattr.cc(63)] setxattr org.chromium.crashpad.database.initialized on file /var/folders/76/p5884tp57fj2wy8qn17tpc6c0000gn/T/: Operation not permitted (1)\n",
      "[1206/230936.254103:INFO:headless_shell.cc(653)] Written to file /var/folders/76/p5884tp57fj2wy8qn17tpc6c0000gn/T/tmpdl2a6t5b/temp.png.\n"
     ]
    }
   ],
   "source": [
    "import dataframe_image as dfi\n",
    "df_styled = para_df.style.background_gradient(cmap='Greys')\n",
    "dfi.export(df_styled,\"images/grid_search_2.png\")"
   ]
  },
  {
   "cell_type": "code",
   "execution_count": 8,
   "id": "418a2478",
   "metadata": {},
   "outputs": [
    {
     "data": {
      "text/plain": [
       "[128, 20, 100, 4, 0.25]"
      ]
     },
     "execution_count": 8,
     "metadata": {},
     "output_type": "execute_result"
    }
   ],
   "source": [
    "max_index = acc_hist.index(max(acc_hist))\n",
    "para = parameter_hist[max_index]\n",
    "para"
   ]
  },
  {
   "cell_type": "markdown",
   "id": "435996fb",
   "metadata": {},
   "source": [
    "## Define model with best parameters"
   ]
  },
  {
   "cell_type": "code",
   "execution_count": 9,
   "id": "67735520",
   "metadata": {
    "scrolled": true
   },
   "outputs": [
    {
     "data": {
      "application/vnd.jupyter.widget-view+json": {
       "model_id": "e2b2770ca6f940d6ab3a34de9235d3a5",
       "version_major": 2,
       "version_minor": 0
      },
      "text/plain": [
       "Computing transition probabilities:   0%|          | 0/2708 [00:00<?, ?it/s]"
      ]
     },
     "metadata": {},
     "output_type": "display_data"
    },
    {
     "name": "stderr",
     "output_type": "stream",
     "text": [
      "Generating walks (CPU: 1): 100%|██████████████| 100/100 [00:20<00:00,  5.00it/s]\n"
     ]
    },
    {
     "data": {
      "text/plain": [
       "0.8413284132841329"
      ]
     },
     "execution_count": 9,
     "metadata": {},
     "output_type": "execute_result"
    }
   ],
   "source": [
    "from numpy.random import randint\n",
    "\n",
    "#generate embeddings with best model\n",
    "node2vec = Node2Vec(graph=g, dimensions=para[0], walk_length=para[1], num_walks=para[2], p=para[3], q=para[4], seed=0)\n",
    "knn = KNeighborsClassifier(metric='euclidean', n_neighbors=4, weights='distance')\n",
    "\n",
    "# Generate embeddings\n",
    "model = node2vec.fit(window=10, min_count=1, batch_words=4)\n",
    "model.wv.save_word2vec_format('embedding/best_embedding.txt')\n",
    "\n",
    "# Read embeddings\n",
    "emb_df = pd.read_csv('embedding/best_embedding.txt', sep=' ', skiprows=[0], header=None)\n",
    "emb_df = emb_df.sort_values(by=[0])\n",
    "emb_df = emb_df.drop(emb_df.columns[0], axis=1)\n",
    "emb_df\n",
    "\n",
    "# Run classifier on embeddings\n",
    "seed = randint(0, len(emb_df), 1)\n",
    "X_train, X_test, y_train, y_test = train_test_split(emb_df, y, test_size=0.20, random_state=seed[0])\n",
    "y_train = np.ravel(y_train)\n",
    "y_test = np.ravel(y_test)\n",
    "\n",
    "knn.fit(X_train, y_train)\n",
    "y_pred = knn.predict(X_test)\n",
    "y_prob = knn.predict_proba(X_test)\n",
    "\n",
    "acc = metrics.accuracy_score(y_test, y_pred)\n",
    "acc"
   ]
  }
 ],
 "metadata": {
  "kernelspec": {
   "display_name": "embeddings",
   "language": "python",
   "name": "embeddings"
  },
  "language_info": {
   "codemirror_mode": {
    "name": "ipython",
    "version": 3
   },
   "file_extension": ".py",
   "mimetype": "text/x-python",
   "name": "python",
   "nbconvert_exporter": "python",
   "pygments_lexer": "ipython3",
   "version": "3.9.6"
  },
  "toc": {
   "base_numbering": 1,
   "nav_menu": {},
   "number_sections": true,
   "sideBar": true,
   "skip_h1_title": false,
   "title_cell": "Table of Contents",
   "title_sidebar": "Contents",
   "toc_cell": false,
   "toc_position": {},
   "toc_section_display": true,
   "toc_window_display": true
  },
  "varInspector": {
   "cols": {
    "lenName": 16,
    "lenType": 16,
    "lenVar": 40
   },
   "kernels_config": {
    "python": {
     "delete_cmd_postfix": "",
     "delete_cmd_prefix": "del ",
     "library": "var_list.py",
     "varRefreshCmd": "print(var_dic_list())"
    },
    "r": {
     "delete_cmd_postfix": ") ",
     "delete_cmd_prefix": "rm(",
     "library": "var_list.r",
     "varRefreshCmd": "cat(var_dic_list()) "
    }
   },
   "types_to_exclude": [
    "module",
    "function",
    "builtin_function_or_method",
    "instance",
    "_Feature"
   ],
   "window_display": false
  }
 },
 "nbformat": 4,
 "nbformat_minor": 5
}

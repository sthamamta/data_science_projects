{
 "cells": [
  {
   "cell_type": "code",
   "execution_count": 1,
   "id": "cac90289",
   "metadata": {},
   "outputs": [],
   "source": [
    "import numpy as np\n",
    "\n",
    "import warnings\n",
    "warnings.simplefilter(action='ignore', category=FutureWarning)\n",
    "\n",
    "import pandas as pd \n",
    "from sklearn.metrics import accuracy_score\n",
    "from sklearn.metrics import f1_score"
   ]
  },
  {
   "cell_type": "markdown",
   "id": "fd6c81f5",
   "metadata": {},
   "source": [
    "## Load data"
   ]
  },
  {
   "cell_type": "code",
   "execution_count": 2,
   "id": "0aac19b1",
   "metadata": {},
   "outputs": [],
   "source": [
    "# Read embeddings\n",
    "emb_df = pd.read_csv('embedding/[128, 20, 100, 4, 1].txt', sep=' ', skiprows=[0], header=None)\n",
    "emb_df = emb_df.sort_values(by=[0])\n",
    "emb_df = emb_df.drop(emb_df.columns[0], axis=1)"
   ]
  },
  {
   "cell_type": "code",
   "execution_count": 3,
   "id": "e898a1c3",
   "metadata": {},
   "outputs": [
    {
     "data": {
      "text/plain": [
       "array(['Genetic_Algorithms', 'Genetic_Algorithms',\n",
       "       'Reinforcement_Learning', ..., 'Rule_Learning', 'Rule_Learning',\n",
       "       'Rule_Learning'], dtype=object)"
      ]
     },
     "execution_count": 3,
     "metadata": {},
     "output_type": "execute_result"
    }
   ],
   "source": [
    "# Read nodes file for labels\n",
    "\n",
    "nodes = pd.read_csv('data/cora.content', sep='\\t', header=None)\n",
    "nodes = nodes.rename(columns={0:'id', 1434:'class'})\n",
    "y = nodes[['id','class']]\n",
    "y = y.sort_values(by=['id'])\n",
    "y = np.ravel(np.array(y[['class']]))\n",
    "y"
   ]
  },
  {
   "cell_type": "markdown",
   "id": "8d391111",
   "metadata": {},
   "source": [
    "## Grid search for knn"
   ]
  },
  {
   "cell_type": "code",
   "execution_count": 4,
   "id": "4cd34294",
   "metadata": {},
   "outputs": [
    {
     "data": {
      "text/plain": [
       "GridSearchCV(estimator=KNeighborsClassifier(),\n",
       "             param_grid={'algorithm': ['ball_tree', 'kd_tree', 'brute'],\n",
       "                         'n_neighbors': [4, 8, 10]})"
      ]
     },
     "execution_count": 4,
     "metadata": {},
     "output_type": "execute_result"
    }
   ],
   "source": [
    "from sklearn.neighbors import KNeighborsClassifier\n",
    "from sklearn.model_selection import GridSearchCV\n",
    "\n",
    "knn = KNeighborsClassifier()\n",
    "parameters = {'n_neighbors':[4,8,10], 'algorithm':['ball_tree', 'kd_tree', 'brute']}\n",
    "knn_grid = GridSearchCV(knn, parameters)\n",
    "knn_grid.fit(emb_df, y)"
   ]
  },
  {
   "cell_type": "code",
   "execution_count": 5,
   "id": "4547b5f4",
   "metadata": {},
   "outputs": [
    {
     "data": {
      "text/plain": [
       "{'mean_fit_time': array([0.0218833 , 0.02648177, 0.02945766, 0.04238605, 0.04366493,\n",
       "        0.04061556, 0.        , 0.00312357, 0.00312281]),\n",
       " 'std_fit_time': array([0.00764693, 0.00575704, 0.00150132, 0.00585139, 0.00620458,\n",
       "        0.00765318, 0.        , 0.00624714, 0.00624561]),\n",
       " 'mean_score_time': array([0.16061869, 0.15992365, 0.16701026, 0.24914446, 0.2343214 ,\n",
       "        0.23744378, 0.03124371, 0.03124356, 0.03123622]),\n",
       " 'std_score_time': array([6.13374954e-03, 6.18645169e-03, 7.48640492e-03, 4.55242843e-03,\n",
       "        4.36857792e-05, 6.24891854e-03, 2.40122429e-05, 2.40185863e-05,\n",
       "        1.50807243e-05]),\n",
       " 'param_algorithm': masked_array(data=['ball_tree', 'ball_tree', 'ball_tree', 'kd_tree',\n",
       "                    'kd_tree', 'kd_tree', 'brute', 'brute', 'brute'],\n",
       "              mask=[False, False, False, False, False, False, False, False,\n",
       "                    False],\n",
       "        fill_value='?',\n",
       "             dtype=object),\n",
       " 'param_n_neighbors': masked_array(data=[4, 8, 10, 4, 8, 10, 4, 8, 10],\n",
       "              mask=[False, False, False, False, False, False, False, False,\n",
       "                    False],\n",
       "        fill_value='?',\n",
       "             dtype=object),\n",
       " 'params': [{'algorithm': 'ball_tree', 'n_neighbors': 4},\n",
       "  {'algorithm': 'ball_tree', 'n_neighbors': 8},\n",
       "  {'algorithm': 'ball_tree', 'n_neighbors': 10},\n",
       "  {'algorithm': 'kd_tree', 'n_neighbors': 4},\n",
       "  {'algorithm': 'kd_tree', 'n_neighbors': 8},\n",
       "  {'algorithm': 'kd_tree', 'n_neighbors': 10},\n",
       "  {'algorithm': 'brute', 'n_neighbors': 4},\n",
       "  {'algorithm': 'brute', 'n_neighbors': 8},\n",
       "  {'algorithm': 'brute', 'n_neighbors': 10}],\n",
       " 'split0_test_score': array([0.79889299, 0.7896679 , 0.79151292, 0.79889299, 0.7896679 ,\n",
       "        0.79151292, 0.79889299, 0.7896679 , 0.79151292]),\n",
       " 'split1_test_score': array([0.79520295, 0.80627306, 0.8099631 , 0.79520295, 0.80627306,\n",
       "        0.8099631 , 0.79520295, 0.80627306, 0.8099631 ]),\n",
       " 'split2_test_score': array([0.85424354, 0.83579336, 0.82103321, 0.85424354, 0.83579336,\n",
       "        0.82103321, 0.85424354, 0.83579336, 0.82103321]),\n",
       " 'split3_test_score': array([0.81700555, 0.7948244 , 0.79667283, 0.81700555, 0.7948244 ,\n",
       "        0.79667283, 0.81700555, 0.7948244 , 0.79667283]),\n",
       " 'split4_test_score': array([0.84842884, 0.84842884, 0.83548983, 0.84842884, 0.84842884,\n",
       "        0.83548983, 0.84842884, 0.84842884, 0.83548983]),\n",
       " 'mean_test_score': array([0.82275477, 0.81499751, 0.81093438, 0.82275477, 0.81499751,\n",
       "        0.81093438, 0.82275477, 0.81499751, 0.81093438]),\n",
       " 'std_test_score': array([0.02454482, 0.02312912, 0.01604048, 0.02454482, 0.02312912,\n",
       "        0.01604048, 0.02454482, 0.02312912, 0.01604048]),\n",
       " 'rank_test_score': array([1, 4, 7, 1, 4, 7, 1, 4, 7])}"
      ]
     },
     "execution_count": 5,
     "metadata": {},
     "output_type": "execute_result"
    }
   ],
   "source": [
    "knn_grid.cv_results_"
   ]
  },
  {
   "cell_type": "code",
   "execution_count": 13,
   "id": "ff769c0f",
   "metadata": {},
   "outputs": [
    {
     "data": {
      "text/html": [
       "<style type=\"text/css\">\n",
       "#T_bdd24_row0_col1, #T_bdd24_row2_col2, #T_bdd24_row3_col1, #T_bdd24_row5_col2, #T_bdd24_row6_col1, #T_bdd24_row8_col2 {\n",
       "  background-color: #ffffff;\n",
       "  color: #000000;\n",
       "}\n",
       "#T_bdd24_row0_col2, #T_bdd24_row2_col1, #T_bdd24_row3_col2, #T_bdd24_row5_col1, #T_bdd24_row6_col2, #T_bdd24_row8_col1 {\n",
       "  background-color: #000000;\n",
       "  color: #f1f1f1;\n",
       "}\n",
       "#T_bdd24_row1_col1, #T_bdd24_row4_col1, #T_bdd24_row7_col1 {\n",
       "  background-color: #686868;\n",
       "  color: #f1f1f1;\n",
       "}\n",
       "#T_bdd24_row1_col2, #T_bdd24_row4_col2, #T_bdd24_row7_col2 {\n",
       "  background-color: #c5c5c5;\n",
       "  color: #000000;\n",
       "}\n",
       "</style>\n",
       "<table id=\"T_bdd24_\">\n",
       "  <thead>\n",
       "    <tr>\n",
       "      <th class=\"blank level0\" >&nbsp;</th>\n",
       "      <th class=\"col_heading level0 col0\" >algorithm</th>\n",
       "      <th class=\"col_heading level0 col1\" >n_neighbors</th>\n",
       "      <th class=\"col_heading level0 col2\" >Accuracy</th>\n",
       "    </tr>\n",
       "  </thead>\n",
       "  <tbody>\n",
       "    <tr>\n",
       "      <th id=\"T_bdd24_level0_row0\" class=\"row_heading level0 row0\" >0</th>\n",
       "      <td id=\"T_bdd24_row0_col0\" class=\"data row0 col0\" >ball_tree</td>\n",
       "      <td id=\"T_bdd24_row0_col1\" class=\"data row0 col1\" >4</td>\n",
       "      <td id=\"T_bdd24_row0_col2\" class=\"data row0 col2\" >0.822755</td>\n",
       "    </tr>\n",
       "    <tr>\n",
       "      <th id=\"T_bdd24_level0_row1\" class=\"row_heading level0 row1\" >1</th>\n",
       "      <td id=\"T_bdd24_row1_col0\" class=\"data row1 col0\" >ball_tree</td>\n",
       "      <td id=\"T_bdd24_row1_col1\" class=\"data row1 col1\" >8</td>\n",
       "      <td id=\"T_bdd24_row1_col2\" class=\"data row1 col2\" >0.814998</td>\n",
       "    </tr>\n",
       "    <tr>\n",
       "      <th id=\"T_bdd24_level0_row2\" class=\"row_heading level0 row2\" >2</th>\n",
       "      <td id=\"T_bdd24_row2_col0\" class=\"data row2 col0\" >ball_tree</td>\n",
       "      <td id=\"T_bdd24_row2_col1\" class=\"data row2 col1\" >10</td>\n",
       "      <td id=\"T_bdd24_row2_col2\" class=\"data row2 col2\" >0.810934</td>\n",
       "    </tr>\n",
       "    <tr>\n",
       "      <th id=\"T_bdd24_level0_row3\" class=\"row_heading level0 row3\" >3</th>\n",
       "      <td id=\"T_bdd24_row3_col0\" class=\"data row3 col0\" >kd_tree</td>\n",
       "      <td id=\"T_bdd24_row3_col1\" class=\"data row3 col1\" >4</td>\n",
       "      <td id=\"T_bdd24_row3_col2\" class=\"data row3 col2\" >0.822755</td>\n",
       "    </tr>\n",
       "    <tr>\n",
       "      <th id=\"T_bdd24_level0_row4\" class=\"row_heading level0 row4\" >4</th>\n",
       "      <td id=\"T_bdd24_row4_col0\" class=\"data row4 col0\" >kd_tree</td>\n",
       "      <td id=\"T_bdd24_row4_col1\" class=\"data row4 col1\" >8</td>\n",
       "      <td id=\"T_bdd24_row4_col2\" class=\"data row4 col2\" >0.814998</td>\n",
       "    </tr>\n",
       "    <tr>\n",
       "      <th id=\"T_bdd24_level0_row5\" class=\"row_heading level0 row5\" >5</th>\n",
       "      <td id=\"T_bdd24_row5_col0\" class=\"data row5 col0\" >kd_tree</td>\n",
       "      <td id=\"T_bdd24_row5_col1\" class=\"data row5 col1\" >10</td>\n",
       "      <td id=\"T_bdd24_row5_col2\" class=\"data row5 col2\" >0.810934</td>\n",
       "    </tr>\n",
       "    <tr>\n",
       "      <th id=\"T_bdd24_level0_row6\" class=\"row_heading level0 row6\" >6</th>\n",
       "      <td id=\"T_bdd24_row6_col0\" class=\"data row6 col0\" >brute</td>\n",
       "      <td id=\"T_bdd24_row6_col1\" class=\"data row6 col1\" >4</td>\n",
       "      <td id=\"T_bdd24_row6_col2\" class=\"data row6 col2\" >0.822755</td>\n",
       "    </tr>\n",
       "    <tr>\n",
       "      <th id=\"T_bdd24_level0_row7\" class=\"row_heading level0 row7\" >7</th>\n",
       "      <td id=\"T_bdd24_row7_col0\" class=\"data row7 col0\" >brute</td>\n",
       "      <td id=\"T_bdd24_row7_col1\" class=\"data row7 col1\" >8</td>\n",
       "      <td id=\"T_bdd24_row7_col2\" class=\"data row7 col2\" >0.814998</td>\n",
       "    </tr>\n",
       "    <tr>\n",
       "      <th id=\"T_bdd24_level0_row8\" class=\"row_heading level0 row8\" >8</th>\n",
       "      <td id=\"T_bdd24_row8_col0\" class=\"data row8 col0\" >brute</td>\n",
       "      <td id=\"T_bdd24_row8_col1\" class=\"data row8 col1\" >10</td>\n",
       "      <td id=\"T_bdd24_row8_col2\" class=\"data row8 col2\" >0.810934</td>\n",
       "    </tr>\n",
       "  </tbody>\n",
       "</table>\n"
      ],
      "text/plain": [
       "<pandas.io.formats.style.Styler at 0x1b1cc7dec40>"
      ]
     },
     "execution_count": 13,
     "metadata": {},
     "output_type": "execute_result"
    }
   ],
   "source": [
    "knn_df = pd.concat([pd.DataFrame(knn_grid.cv_results_[\"params\"]),pd.DataFrame(knn_grid.cv_results_[\"mean_test_score\"],\n",
    "                                                                     columns=[\"Accuracy\"])],axis=1)\n",
    "import dataframe_image as dfi\n",
    "knn_styled = knn_df.style.background_gradient(cmap='Greys')\n",
    "knn_styled"
   ]
  },
  {
   "cell_type": "markdown",
   "id": "65fd7292",
   "metadata": {},
   "source": [
    "## Grid search for SVM"
   ]
  },
  {
   "cell_type": "code",
   "execution_count": 6,
   "id": "5b88a225",
   "metadata": {},
   "outputs": [
    {
     "data": {
      "text/plain": [
       "GridSearchCV(estimator=SVC(),\n",
       "             param_grid={'C': [0.5, 1, 5, 10], 'kernel': ('linear', 'rbf')})"
      ]
     },
     "execution_count": 6,
     "metadata": {},
     "output_type": "execute_result"
    }
   ],
   "source": [
    "from sklearn import svm\n",
    "\n",
    "svm = svm.SVC()\n",
    "parameters = {'kernel':('linear', 'rbf'), 'C':[0.5, 1, 5, 10]}\n",
    "svm_grid = GridSearchCV(svm, parameters)\n",
    "svm_grid.fit(emb_df, y)"
   ]
  },
  {
   "cell_type": "code",
   "execution_count": 7,
   "id": "76ccf995",
   "metadata": {},
   "outputs": [
    {
     "data": {
      "text/plain": [
       "{'mean_fit_time': array([0.10168781, 0.15656862, 0.12110467, 0.15342274, 0.18343258,\n",
       "        0.139676  , 0.20662131, 0.13757663]),\n",
       " 'std_fit_time': array([0.00671688, 0.00092586, 0.00958634, 0.00644781, 0.01610334,\n",
       "        0.00126148, 0.01416433, 0.00531446]),\n",
       " 'mean_score_time': array([0.02534623, 0.08940072, 0.02287183, 0.08984823, 0.02334213,\n",
       "        0.08209691, 0.02127547, 0.08374109]),\n",
       " 'std_score_time': array([0.00861888, 0.00986082, 0.00380555, 0.00715113, 0.00079857,\n",
       "        0.00630853, 0.00285448, 0.00828004]),\n",
       " 'param_C': masked_array(data=[0.5, 0.5, 1, 1, 5, 5, 10, 10],\n",
       "              mask=[False, False, False, False, False, False, False, False],\n",
       "        fill_value='?',\n",
       "             dtype=object),\n",
       " 'param_kernel': masked_array(data=['linear', 'rbf', 'linear', 'rbf', 'linear', 'rbf',\n",
       "                    'linear', 'rbf'],\n",
       "              mask=[False, False, False, False, False, False, False, False],\n",
       "        fill_value='?',\n",
       "             dtype=object),\n",
       " 'params': [{'C': 0.5, 'kernel': 'linear'},\n",
       "  {'C': 0.5, 'kernel': 'rbf'},\n",
       "  {'C': 1, 'kernel': 'linear'},\n",
       "  {'C': 1, 'kernel': 'rbf'},\n",
       "  {'C': 5, 'kernel': 'linear'},\n",
       "  {'C': 5, 'kernel': 'rbf'},\n",
       "  {'C': 10, 'kernel': 'linear'},\n",
       "  {'C': 10, 'kernel': 'rbf'}],\n",
       " 'split0_test_score': array([0.79151292, 0.79889299, 0.79704797, 0.81180812, 0.77121771,\n",
       "        0.81918819, 0.77490775, 0.81365314]),\n",
       " 'split1_test_score': array([0.82656827, 0.83394834, 0.82103321, 0.84317343, 0.79151292,\n",
       "        0.84501845, 0.79520295, 0.83579336]),\n",
       " 'split2_test_score': array([0.87453875, 0.86162362, 0.87084871, 0.88560886, 0.8597786 ,\n",
       "        0.900369  , 0.85793358, 0.900369  ]),\n",
       " 'split3_test_score': array([0.82255083, 0.80961183, 0.83179298, 0.8336414 , 0.80961183,\n",
       "        0.85212569, 0.79112754, 0.84473198]),\n",
       " 'split4_test_score': array([0.87985213, 0.83733826, 0.87245841, 0.86691312, 0.84288355,\n",
       "        0.88354898, 0.8336414 , 0.8780037 ]),\n",
       " 'mean_test_score': array([0.83900458, 0.82828301, 0.83863626, 0.84822899, 0.81500092,\n",
       "        0.86005006, 0.81056265, 0.85451023]),\n",
       " 'std_test_score': array([0.03350237, 0.02208201, 0.02921597, 0.02573398, 0.03249671,\n",
       "        0.02876197, 0.03053375, 0.03088756]),\n",
       " 'rank_test_score': array([4, 6, 5, 3, 7, 1, 8, 2])}"
      ]
     },
     "execution_count": 7,
     "metadata": {},
     "output_type": "execute_result"
    }
   ],
   "source": [
    "svm_grid.cv_results_"
   ]
  },
  {
   "cell_type": "code",
   "execution_count": 14,
   "id": "fc2f8125",
   "metadata": {},
   "outputs": [
    {
     "data": {
      "text/html": [
       "<style type=\"text/css\">\n",
       "#T_86876_row0_col0, #T_86876_row1_col0, #T_86876_row6_col2 {\n",
       "  background-color: #ffffff;\n",
       "  color: #000000;\n",
       "}\n",
       "#T_86876_row0_col2 {\n",
       "  background-color: #818181;\n",
       "  color: #f1f1f1;\n",
       "}\n",
       "#T_86876_row1_col2 {\n",
       "  background-color: #c1c1c1;\n",
       "  color: #000000;\n",
       "}\n",
       "#T_86876_row2_col0, #T_86876_row3_col0 {\n",
       "  background-color: #f9f9f9;\n",
       "  color: #000000;\n",
       "}\n",
       "#T_86876_row2_col2 {\n",
       "  background-color: #838383;\n",
       "  color: #f1f1f1;\n",
       "}\n",
       "#T_86876_row3_col2 {\n",
       "  background-color: #4e4e4e;\n",
       "  color: #f1f1f1;\n",
       "}\n",
       "#T_86876_row4_col0, #T_86876_row5_col0 {\n",
       "  background-color: #9e9e9e;\n",
       "  color: #f1f1f1;\n",
       "}\n",
       "#T_86876_row4_col2 {\n",
       "  background-color: #f5f5f5;\n",
       "  color: #000000;\n",
       "}\n",
       "#T_86876_row5_col2, #T_86876_row6_col0, #T_86876_row7_col0 {\n",
       "  background-color: #000000;\n",
       "  color: #f1f1f1;\n",
       "}\n",
       "#T_86876_row7_col2 {\n",
       "  background-color: #212121;\n",
       "  color: #f1f1f1;\n",
       "}\n",
       "</style>\n",
       "<table id=\"T_86876_\">\n",
       "  <thead>\n",
       "    <tr>\n",
       "      <th class=\"blank level0\" >&nbsp;</th>\n",
       "      <th class=\"col_heading level0 col0\" >C</th>\n",
       "      <th class=\"col_heading level0 col1\" >kernel</th>\n",
       "      <th class=\"col_heading level0 col2\" >Accuracy</th>\n",
       "    </tr>\n",
       "  </thead>\n",
       "  <tbody>\n",
       "    <tr>\n",
       "      <th id=\"T_86876_level0_row0\" class=\"row_heading level0 row0\" >0</th>\n",
       "      <td id=\"T_86876_row0_col0\" class=\"data row0 col0\" >0.500000</td>\n",
       "      <td id=\"T_86876_row0_col1\" class=\"data row0 col1\" >linear</td>\n",
       "      <td id=\"T_86876_row0_col2\" class=\"data row0 col2\" >0.839005</td>\n",
       "    </tr>\n",
       "    <tr>\n",
       "      <th id=\"T_86876_level0_row1\" class=\"row_heading level0 row1\" >1</th>\n",
       "      <td id=\"T_86876_row1_col0\" class=\"data row1 col0\" >0.500000</td>\n",
       "      <td id=\"T_86876_row1_col1\" class=\"data row1 col1\" >rbf</td>\n",
       "      <td id=\"T_86876_row1_col2\" class=\"data row1 col2\" >0.828283</td>\n",
       "    </tr>\n",
       "    <tr>\n",
       "      <th id=\"T_86876_level0_row2\" class=\"row_heading level0 row2\" >2</th>\n",
       "      <td id=\"T_86876_row2_col0\" class=\"data row2 col0\" >1.000000</td>\n",
       "      <td id=\"T_86876_row2_col1\" class=\"data row2 col1\" >linear</td>\n",
       "      <td id=\"T_86876_row2_col2\" class=\"data row2 col2\" >0.838636</td>\n",
       "    </tr>\n",
       "    <tr>\n",
       "      <th id=\"T_86876_level0_row3\" class=\"row_heading level0 row3\" >3</th>\n",
       "      <td id=\"T_86876_row3_col0\" class=\"data row3 col0\" >1.000000</td>\n",
       "      <td id=\"T_86876_row3_col1\" class=\"data row3 col1\" >rbf</td>\n",
       "      <td id=\"T_86876_row3_col2\" class=\"data row3 col2\" >0.848229</td>\n",
       "    </tr>\n",
       "    <tr>\n",
       "      <th id=\"T_86876_level0_row4\" class=\"row_heading level0 row4\" >4</th>\n",
       "      <td id=\"T_86876_row4_col0\" class=\"data row4 col0\" >5.000000</td>\n",
       "      <td id=\"T_86876_row4_col1\" class=\"data row4 col1\" >linear</td>\n",
       "      <td id=\"T_86876_row4_col2\" class=\"data row4 col2\" >0.815001</td>\n",
       "    </tr>\n",
       "    <tr>\n",
       "      <th id=\"T_86876_level0_row5\" class=\"row_heading level0 row5\" >5</th>\n",
       "      <td id=\"T_86876_row5_col0\" class=\"data row5 col0\" >5.000000</td>\n",
       "      <td id=\"T_86876_row5_col1\" class=\"data row5 col1\" >rbf</td>\n",
       "      <td id=\"T_86876_row5_col2\" class=\"data row5 col2\" >0.860050</td>\n",
       "    </tr>\n",
       "    <tr>\n",
       "      <th id=\"T_86876_level0_row6\" class=\"row_heading level0 row6\" >6</th>\n",
       "      <td id=\"T_86876_row6_col0\" class=\"data row6 col0\" >10.000000</td>\n",
       "      <td id=\"T_86876_row6_col1\" class=\"data row6 col1\" >linear</td>\n",
       "      <td id=\"T_86876_row6_col2\" class=\"data row6 col2\" >0.810563</td>\n",
       "    </tr>\n",
       "    <tr>\n",
       "      <th id=\"T_86876_level0_row7\" class=\"row_heading level0 row7\" >7</th>\n",
       "      <td id=\"T_86876_row7_col0\" class=\"data row7 col0\" >10.000000</td>\n",
       "      <td id=\"T_86876_row7_col1\" class=\"data row7 col1\" >rbf</td>\n",
       "      <td id=\"T_86876_row7_col2\" class=\"data row7 col2\" >0.854510</td>\n",
       "    </tr>\n",
       "  </tbody>\n",
       "</table>\n"
      ],
      "text/plain": [
       "<pandas.io.formats.style.Styler at 0x1b1cc45c430>"
      ]
     },
     "execution_count": 14,
     "metadata": {},
     "output_type": "execute_result"
    }
   ],
   "source": [
    "svm_df = pd.concat([pd.DataFrame(svm_grid.cv_results_[\"params\"]),pd.DataFrame(svm_grid.cv_results_[\"mean_test_score\"],\n",
    "                                                                     columns=[\"Accuracy\"])],axis=1)\n",
    "svm_styled = svm_df.style.background_gradient(cmap='Greys')\n",
    "svm_styled"
   ]
  }
 ],
 "metadata": {
  "kernelspec": {
   "display_name": "embeddings",
   "language": "python",
   "name": "embeddings"
  },
  "language_info": {
   "codemirror_mode": {
    "name": "ipython",
    "version": 3
   },
   "file_extension": ".py",
   "mimetype": "text/x-python",
   "name": "python",
   "nbconvert_exporter": "python",
   "pygments_lexer": "ipython3",
   "version": "3.9.6"
  },
  "toc": {
   "base_numbering": 1,
   "nav_menu": {},
   "number_sections": true,
   "sideBar": true,
   "skip_h1_title": false,
   "title_cell": "Table of Contents",
   "title_sidebar": "Contents",
   "toc_cell": false,
   "toc_position": {},
   "toc_section_display": true,
   "toc_window_display": true
  },
  "varInspector": {
   "cols": {
    "lenName": 16,
    "lenType": 16,
    "lenVar": 40
   },
   "kernels_config": {
    "python": {
     "delete_cmd_postfix": "",
     "delete_cmd_prefix": "del ",
     "library": "var_list.py",
     "varRefreshCmd": "print(var_dic_list())"
    },
    "r": {
     "delete_cmd_postfix": ") ",
     "delete_cmd_prefix": "rm(",
     "library": "var_list.r",
     "varRefreshCmd": "cat(var_dic_list()) "
    }
   },
   "types_to_exclude": [
    "module",
    "function",
    "builtin_function_or_method",
    "instance",
    "_Feature"
   ],
   "window_display": false
  }
 },
 "nbformat": 4,
 "nbformat_minor": 5
}

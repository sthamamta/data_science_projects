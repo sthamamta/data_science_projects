{
 "cells": [
  {
   "cell_type": "code",
   "execution_count": 1,
   "id": "4ab451d8",
   "metadata": {},
   "outputs": [],
   "source": [
    "import numpy as np\n",
    "import pandas as pd \n",
    "import networkx as nx\n",
    "import time\n",
    "from node2vec import Node2Vec\n",
    "from sklearn.neighbors import KNeighborsClassifier\n",
    "from sklearn.model_selection import train_test_split, KFold\n",
    "from sklearn import metrics "
   ]
  },
  {
   "cell_type": "markdown",
   "id": "0c0f1afc",
   "metadata": {},
   "source": [
    "## Load Data"
   ]
  },
  {
   "cell_type": "code",
   "execution_count": 2,
   "id": "e23f1ebd",
   "metadata": {},
   "outputs": [
    {
     "data": {
      "text/plain": [
       "array(['Genetic_Algorithms', 'Genetic_Algorithms',\n",
       "       'Reinforcement_Learning', ..., 'Rule_Learning', 'Rule_Learning',\n",
       "       'Rule_Learning'], dtype=object)"
      ]
     },
     "execution_count": 2,
     "metadata": {},
     "output_type": "execute_result"
    }
   ],
   "source": [
    "nodes = pd.read_csv('data/cora.content', sep='\\t', header=None)\n",
    "nodes = nodes.rename(columns={0:'id', 1434:'class'})\n",
    "y = nodes[['id','class']]\n",
    "y = y.sort_values(by=['id'])\n",
    "y = np.ravel(np.array(y[['class']]))\n",
    "y"
   ]
  },
  {
   "cell_type": "code",
   "execution_count": 3,
   "id": "96c91bb1",
   "metadata": {},
   "outputs": [
    {
     "name": "stdout",
     "output_type": "stream",
     "text": [
      "Graph named 'cora' with 2708 nodes and 5278 edges\n"
     ]
    }
   ],
   "source": [
    "#networkx graph\n",
    "g = nx.read_gpickle('data/cora.gml')\n",
    "print(g)"
   ]
  },
  {
   "cell_type": "markdown",
   "id": "9ac75a79",
   "metadata": {},
   "source": [
    "## Define pipeline for grid search"
   ]
  },
  {
   "cell_type": "code",
   "execution_count": 4,
   "id": "3a0e86c1",
   "metadata": {},
   "outputs": [],
   "source": [
    "# Pipeline Search for best parameters\n",
    "def pipeline(transformer, classifier, EMBEDDING_FILENAME):\n",
    "    # Generate embeddings\n",
    "    model = transformer.fit(window=10, min_count=1, batch_words=4)\n",
    "    model.wv.save_word2vec_format(EMBEDDING_FILENAME)\n",
    "        \n",
    "    # Read embeddings\n",
    "    emb_df = pd.read_csv(EMBEDDING_FILENAME, sep=' ', skiprows=[0], header=None)\n",
    "    emb_df = emb_df.sort_values(by=[0])\n",
    "    emb_df = emb_df.drop(emb_df.columns[0], axis=1)\n",
    "    \n",
    "    # Run classifier on embeddings\n",
    "    # k-fold validation\n",
    "    i = 1\n",
    "    acc = 0\n",
    "    kf = KFold(n_splits=3, shuffle=True)\n",
    "    \n",
    "    for train, test in kf.split(emb_df):\n",
    "        print(\"Running classification on split \", i)\n",
    "        X_train, X_test = emb_df.iloc[train], emb_df.iloc[test]\n",
    "        y_train, y_test = y[train], y[test]\n",
    "        \n",
    "        classifier.fit(X_train, y_train)\n",
    "        y_pred = classifier.predict(X_test)\n",
    "        y_prob = classifier.predict_proba(X_test)\n",
    "        \n",
    "        acc_fold = metrics.accuracy_score(y_test, y_pred)\n",
    "        \n",
    "        acc += acc_fold\n",
    "        i += 1\n",
    "        \n",
    "    acc = acc/3\n",
    "    \n",
    "    return acc"
   ]
  },
  {
   "cell_type": "code",
   "execution_count": 5,
   "id": "c6cc8e98",
   "metadata": {
    "scrolled": false
   },
   "outputs": [
    {
     "data": {
      "application/vnd.jupyter.widget-view+json": {
       "model_id": "83c38206e4e2468ab4bef554acdc91fe",
       "version_major": 2,
       "version_minor": 0
      },
      "text/plain": [
       "Computing transition probabilities:   0%|          | 0/2708 [00:00<?, ?it/s]"
      ]
     },
     "metadata": {},
     "output_type": "display_data"
    },
    {
     "name": "stderr",
     "output_type": "stream",
     "text": [
      "Generating walks (CPU: 1): 100%|████████████████| 50/50 [00:39<00:00,  1.26it/s]\n"
     ]
    },
    {
     "name": "stdout",
     "output_type": "stream",
     "text": [
      "[128, 80, 50, 0.25, 0.25]\n",
      "Running classification on split  1\n",
      "Running classification on split  2\n",
      "Running classification on split  3\n"
     ]
    },
    {
     "data": {
      "application/vnd.jupyter.widget-view+json": {
       "model_id": "2f093afec6a64ac48d0758fc8578b74a",
       "version_major": 2,
       "version_minor": 0
      },
      "text/plain": [
       "Computing transition probabilities:   0%|          | 0/2708 [00:00<?, ?it/s]"
      ]
     },
     "metadata": {},
     "output_type": "display_data"
    },
    {
     "name": "stderr",
     "output_type": "stream",
     "text": [
      "Generating walks (CPU: 1): 100%|████████████████| 50/50 [00:40<00:00,  1.25it/s]\n"
     ]
    },
    {
     "name": "stdout",
     "output_type": "stream",
     "text": [
      "[128, 80, 50, 0.25, 0.5]\n",
      "Running classification on split  1\n",
      "Running classification on split  2\n",
      "Running classification on split  3\n"
     ]
    },
    {
     "data": {
      "application/vnd.jupyter.widget-view+json": {
       "model_id": "4b64312d6f804fd4b5a381ce7df2c7fb",
       "version_major": 2,
       "version_minor": 0
      },
      "text/plain": [
       "Computing transition probabilities:   0%|          | 0/2708 [00:00<?, ?it/s]"
      ]
     },
     "metadata": {},
     "output_type": "display_data"
    },
    {
     "name": "stderr",
     "output_type": "stream",
     "text": [
      "Generating walks (CPU: 1): 100%|████████████████| 50/50 [00:40<00:00,  1.23it/s]\n"
     ]
    },
    {
     "name": "stdout",
     "output_type": "stream",
     "text": [
      "[128, 80, 50, 0.25, 1]\n",
      "Running classification on split  1\n",
      "Running classification on split  2\n",
      "Running classification on split  3\n"
     ]
    },
    {
     "data": {
      "application/vnd.jupyter.widget-view+json": {
       "model_id": "ac69065741f44dce80119382129c4ba2",
       "version_major": 2,
       "version_minor": 0
      },
      "text/plain": [
       "Computing transition probabilities:   0%|          | 0/2708 [00:00<?, ?it/s]"
      ]
     },
     "metadata": {},
     "output_type": "display_data"
    },
    {
     "name": "stderr",
     "output_type": "stream",
     "text": [
      "Generating walks (CPU: 1): 100%|████████████████| 50/50 [00:40<00:00,  1.25it/s]\n"
     ]
    },
    {
     "name": "stdout",
     "output_type": "stream",
     "text": [
      "[128, 80, 50, 0.25, 2]\n",
      "Running classification on split  1\n",
      "Running classification on split  2\n",
      "Running classification on split  3\n"
     ]
    },
    {
     "data": {
      "application/vnd.jupyter.widget-view+json": {
       "model_id": "7bf082cc542143abbb56d07d7e3e2560",
       "version_major": 2,
       "version_minor": 0
      },
      "text/plain": [
       "Computing transition probabilities:   0%|          | 0/2708 [00:00<?, ?it/s]"
      ]
     },
     "metadata": {},
     "output_type": "display_data"
    },
    {
     "name": "stderr",
     "output_type": "stream",
     "text": [
      "Generating walks (CPU: 1): 100%|████████████████| 50/50 [00:40<00:00,  1.23it/s]\n"
     ]
    },
    {
     "name": "stdout",
     "output_type": "stream",
     "text": [
      "[128, 80, 50, 0.25, 4]\n",
      "Running classification on split  1\n",
      "Running classification on split  2\n",
      "Running classification on split  3\n"
     ]
    },
    {
     "data": {
      "application/vnd.jupyter.widget-view+json": {
       "model_id": "e8a582d131044fc9894e0e7cd2e6a353",
       "version_major": 2,
       "version_minor": 0
      },
      "text/plain": [
       "Computing transition probabilities:   0%|          | 0/2708 [00:00<?, ?it/s]"
      ]
     },
     "metadata": {},
     "output_type": "display_data"
    },
    {
     "name": "stderr",
     "output_type": "stream",
     "text": [
      "Generating walks (CPU: 1): 100%|████████████████| 50/50 [00:40<00:00,  1.24it/s]\n"
     ]
    },
    {
     "name": "stdout",
     "output_type": "stream",
     "text": [
      "[128, 80, 50, 0.5, 0.25]\n",
      "Running classification on split  1\n",
      "Running classification on split  2\n",
      "Running classification on split  3\n"
     ]
    },
    {
     "data": {
      "application/vnd.jupyter.widget-view+json": {
       "model_id": "6183a006e376418b950b93a0ae273b59",
       "version_major": 2,
       "version_minor": 0
      },
      "text/plain": [
       "Computing transition probabilities:   0%|          | 0/2708 [00:00<?, ?it/s]"
      ]
     },
     "metadata": {},
     "output_type": "display_data"
    },
    {
     "name": "stderr",
     "output_type": "stream",
     "text": [
      "Generating walks (CPU: 1): 100%|████████████████| 50/50 [00:40<00:00,  1.24it/s]\n"
     ]
    },
    {
     "name": "stdout",
     "output_type": "stream",
     "text": [
      "[128, 80, 50, 0.5, 0.5]\n",
      "Running classification on split  1\n",
      "Running classification on split  2\n",
      "Running classification on split  3\n"
     ]
    },
    {
     "data": {
      "application/vnd.jupyter.widget-view+json": {
       "model_id": "10f1c55faf8e44ccac97ed412458f234",
       "version_major": 2,
       "version_minor": 0
      },
      "text/plain": [
       "Computing transition probabilities:   0%|          | 0/2708 [00:00<?, ?it/s]"
      ]
     },
     "metadata": {},
     "output_type": "display_data"
    },
    {
     "name": "stderr",
     "output_type": "stream",
     "text": [
      "Generating walks (CPU: 1): 100%|████████████████| 50/50 [00:40<00:00,  1.22it/s]\n"
     ]
    },
    {
     "name": "stdout",
     "output_type": "stream",
     "text": [
      "[128, 80, 50, 0.5, 1]\n",
      "Running classification on split  1\n",
      "Running classification on split  2\n",
      "Running classification on split  3\n"
     ]
    },
    {
     "data": {
      "application/vnd.jupyter.widget-view+json": {
       "model_id": "cc425c85d3124852b57706fc71e58f74",
       "version_major": 2,
       "version_minor": 0
      },
      "text/plain": [
       "Computing transition probabilities:   0%|          | 0/2708 [00:00<?, ?it/s]"
      ]
     },
     "metadata": {},
     "output_type": "display_data"
    },
    {
     "name": "stderr",
     "output_type": "stream",
     "text": [
      "Generating walks (CPU: 1): 100%|████████████████| 50/50 [00:40<00:00,  1.23it/s]\n"
     ]
    },
    {
     "name": "stdout",
     "output_type": "stream",
     "text": [
      "[128, 80, 50, 0.5, 2]\n",
      "Running classification on split  1\n",
      "Running classification on split  2\n",
      "Running classification on split  3\n"
     ]
    },
    {
     "data": {
      "application/vnd.jupyter.widget-view+json": {
       "model_id": "4aa360b6637e44bc8cdd13b0fc237fa4",
       "version_major": 2,
       "version_minor": 0
      },
      "text/plain": [
       "Computing transition probabilities:   0%|          | 0/2708 [00:00<?, ?it/s]"
      ]
     },
     "metadata": {},
     "output_type": "display_data"
    },
    {
     "name": "stderr",
     "output_type": "stream",
     "text": [
      "Generating walks (CPU: 1): 100%|████████████████| 50/50 [00:41<00:00,  1.21it/s]\n"
     ]
    },
    {
     "name": "stdout",
     "output_type": "stream",
     "text": [
      "[128, 80, 50, 0.5, 4]\n",
      "Running classification on split  1\n",
      "Running classification on split  2\n",
      "Running classification on split  3\n"
     ]
    },
    {
     "data": {
      "application/vnd.jupyter.widget-view+json": {
       "model_id": "b21649cf0c7d4f4bbee19c7bf5bf9465",
       "version_major": 2,
       "version_minor": 0
      },
      "text/plain": [
       "Computing transition probabilities:   0%|          | 0/2708 [00:00<?, ?it/s]"
      ]
     },
     "metadata": {},
     "output_type": "display_data"
    },
    {
     "name": "stderr",
     "output_type": "stream",
     "text": [
      "Generating walks (CPU: 1): 100%|████████████████| 50/50 [00:40<00:00,  1.24it/s]\n"
     ]
    },
    {
     "name": "stdout",
     "output_type": "stream",
     "text": [
      "[128, 80, 50, 1, 0.25]\n",
      "Running classification on split  1\n",
      "Running classification on split  2\n",
      "Running classification on split  3\n"
     ]
    },
    {
     "data": {
      "application/vnd.jupyter.widget-view+json": {
       "model_id": "4923931cf72e448eaebdf985478f431d",
       "version_major": 2,
       "version_minor": 0
      },
      "text/plain": [
       "Computing transition probabilities:   0%|          | 0/2708 [00:00<?, ?it/s]"
      ]
     },
     "metadata": {},
     "output_type": "display_data"
    },
    {
     "name": "stderr",
     "output_type": "stream",
     "text": [
      "Generating walks (CPU: 1): 100%|████████████████| 50/50 [00:40<00:00,  1.22it/s]\n"
     ]
    },
    {
     "name": "stdout",
     "output_type": "stream",
     "text": [
      "[128, 80, 50, 1, 0.5]\n",
      "Running classification on split  1\n",
      "Running classification on split  2\n",
      "Running classification on split  3\n"
     ]
    },
    {
     "data": {
      "application/vnd.jupyter.widget-view+json": {
       "model_id": "5222c9b500044694b9e719477eaf3699",
       "version_major": 2,
       "version_minor": 0
      },
      "text/plain": [
       "Computing transition probabilities:   0%|          | 0/2708 [00:00<?, ?it/s]"
      ]
     },
     "metadata": {},
     "output_type": "display_data"
    },
    {
     "name": "stderr",
     "output_type": "stream",
     "text": [
      "Generating walks (CPU: 1): 100%|████████████████| 50/50 [00:40<00:00,  1.23it/s]\n"
     ]
    },
    {
     "name": "stdout",
     "output_type": "stream",
     "text": [
      "[128, 80, 50, 1, 1]\n",
      "Running classification on split  1\n",
      "Running classification on split  2\n",
      "Running classification on split  3\n"
     ]
    },
    {
     "data": {
      "application/vnd.jupyter.widget-view+json": {
       "model_id": "62c53bfd015a410f8a3fef48abd7ec96",
       "version_major": 2,
       "version_minor": 0
      },
      "text/plain": [
       "Computing transition probabilities:   0%|          | 0/2708 [00:00<?, ?it/s]"
      ]
     },
     "metadata": {},
     "output_type": "display_data"
    },
    {
     "name": "stderr",
     "output_type": "stream",
     "text": [
      "Generating walks (CPU: 1): 100%|████████████████| 50/50 [00:41<00:00,  1.22it/s]\n"
     ]
    },
    {
     "name": "stdout",
     "output_type": "stream",
     "text": [
      "[128, 80, 50, 1, 2]\n",
      "Running classification on split  1\n",
      "Running classification on split  2\n",
      "Running classification on split  3\n"
     ]
    },
    {
     "data": {
      "application/vnd.jupyter.widget-view+json": {
       "model_id": "36204b369fe444689c30dd76faaee0d1",
       "version_major": 2,
       "version_minor": 0
      },
      "text/plain": [
       "Computing transition probabilities:   0%|          | 0/2708 [00:00<?, ?it/s]"
      ]
     },
     "metadata": {},
     "output_type": "display_data"
    },
    {
     "name": "stderr",
     "output_type": "stream",
     "text": [
      "Generating walks (CPU: 1): 100%|████████████████| 50/50 [00:41<00:00,  1.21it/s]\n"
     ]
    },
    {
     "name": "stdout",
     "output_type": "stream",
     "text": [
      "[128, 80, 50, 1, 4]\n",
      "Running classification on split  1\n",
      "Running classification on split  2\n",
      "Running classification on split  3\n"
     ]
    },
    {
     "data": {
      "application/vnd.jupyter.widget-view+json": {
       "model_id": "33a5383068064cb6960188aa8b4cbf8d",
       "version_major": 2,
       "version_minor": 0
      },
      "text/plain": [
       "Computing transition probabilities:   0%|          | 0/2708 [00:00<?, ?it/s]"
      ]
     },
     "metadata": {},
     "output_type": "display_data"
    },
    {
     "name": "stderr",
     "output_type": "stream",
     "text": [
      "Generating walks (CPU: 1): 100%|████████████████| 50/50 [00:40<00:00,  1.24it/s]\n"
     ]
    },
    {
     "name": "stdout",
     "output_type": "stream",
     "text": [
      "[128, 80, 50, 2, 0.25]\n",
      "Running classification on split  1\n",
      "Running classification on split  2\n",
      "Running classification on split  3\n"
     ]
    },
    {
     "data": {
      "application/vnd.jupyter.widget-view+json": {
       "model_id": "51d608cf802b4b049887b865a8724452",
       "version_major": 2,
       "version_minor": 0
      },
      "text/plain": [
       "Computing transition probabilities:   0%|          | 0/2708 [00:00<?, ?it/s]"
      ]
     },
     "metadata": {},
     "output_type": "display_data"
    },
    {
     "name": "stderr",
     "output_type": "stream",
     "text": [
      "Generating walks (CPU: 1): 100%|████████████████| 50/50 [00:40<00:00,  1.23it/s]\n"
     ]
    },
    {
     "name": "stdout",
     "output_type": "stream",
     "text": [
      "[128, 80, 50, 2, 0.5]\n",
      "Running classification on split  1\n",
      "Running classification on split  2\n",
      "Running classification on split  3\n"
     ]
    },
    {
     "data": {
      "application/vnd.jupyter.widget-view+json": {
       "model_id": "9e2d8fba4f454bc3a25b5c1d7120aae5",
       "version_major": 2,
       "version_minor": 0
      },
      "text/plain": [
       "Computing transition probabilities:   0%|          | 0/2708 [00:00<?, ?it/s]"
      ]
     },
     "metadata": {},
     "output_type": "display_data"
    },
    {
     "name": "stderr",
     "output_type": "stream",
     "text": [
      "Generating walks (CPU: 1): 100%|████████████████| 50/50 [00:40<00:00,  1.23it/s]\n"
     ]
    },
    {
     "name": "stdout",
     "output_type": "stream",
     "text": [
      "[128, 80, 50, 2, 1]\n",
      "Running classification on split  1\n",
      "Running classification on split  2\n",
      "Running classification on split  3\n"
     ]
    },
    {
     "data": {
      "application/vnd.jupyter.widget-view+json": {
       "model_id": "3ca48126968a407295994811e250e835",
       "version_major": 2,
       "version_minor": 0
      },
      "text/plain": [
       "Computing transition probabilities:   0%|          | 0/2708 [00:00<?, ?it/s]"
      ]
     },
     "metadata": {},
     "output_type": "display_data"
    },
    {
     "name": "stderr",
     "output_type": "stream",
     "text": [
      "Generating walks (CPU: 1): 100%|████████████████| 50/50 [00:40<00:00,  1.22it/s]\n"
     ]
    },
    {
     "name": "stdout",
     "output_type": "stream",
     "text": [
      "[128, 80, 50, 2, 2]\n",
      "Running classification on split  1\n",
      "Running classification on split  2\n",
      "Running classification on split  3\n"
     ]
    },
    {
     "data": {
      "application/vnd.jupyter.widget-view+json": {
       "model_id": "c0093e69c7f24372b858a184ce88dac3",
       "version_major": 2,
       "version_minor": 0
      },
      "text/plain": [
       "Computing transition probabilities:   0%|          | 0/2708 [00:00<?, ?it/s]"
      ]
     },
     "metadata": {},
     "output_type": "display_data"
    },
    {
     "name": "stderr",
     "output_type": "stream",
     "text": [
      "Generating walks (CPU: 1): 100%|████████████████| 50/50 [00:41<00:00,  1.21it/s]\n"
     ]
    },
    {
     "name": "stdout",
     "output_type": "stream",
     "text": [
      "[128, 80, 50, 2, 4]\n",
      "Running classification on split  1\n",
      "Running classification on split  2\n",
      "Running classification on split  3\n"
     ]
    },
    {
     "data": {
      "application/vnd.jupyter.widget-view+json": {
       "model_id": "3d53e440c05346e6921516b35c78a8b3",
       "version_major": 2,
       "version_minor": 0
      },
      "text/plain": [
       "Computing transition probabilities:   0%|          | 0/2708 [00:00<?, ?it/s]"
      ]
     },
     "metadata": {},
     "output_type": "display_data"
    },
    {
     "name": "stderr",
     "output_type": "stream",
     "text": [
      "Generating walks (CPU: 1): 100%|████████████████| 50/50 [00:40<00:00,  1.25it/s]\n"
     ]
    },
    {
     "name": "stdout",
     "output_type": "stream",
     "text": [
      "[128, 80, 50, 4, 0.25]\n",
      "Running classification on split  1\n",
      "Running classification on split  2\n",
      "Running classification on split  3\n"
     ]
    },
    {
     "data": {
      "application/vnd.jupyter.widget-view+json": {
       "model_id": "1aa48c5613a04b3fa4c304bd1cd1291a",
       "version_major": 2,
       "version_minor": 0
      },
      "text/plain": [
       "Computing transition probabilities:   0%|          | 0/2708 [00:00<?, ?it/s]"
      ]
     },
     "metadata": {},
     "output_type": "display_data"
    },
    {
     "name": "stderr",
     "output_type": "stream",
     "text": [
      "Generating walks (CPU: 1): 100%|████████████████| 50/50 [00:41<00:00,  1.22it/s]\n"
     ]
    },
    {
     "name": "stdout",
     "output_type": "stream",
     "text": [
      "[128, 80, 50, 4, 0.5]\n",
      "Running classification on split  1\n",
      "Running classification on split  2\n",
      "Running classification on split  3\n"
     ]
    },
    {
     "data": {
      "application/vnd.jupyter.widget-view+json": {
       "model_id": "e5ba84076253447b9bd1373cfbdb168e",
       "version_major": 2,
       "version_minor": 0
      },
      "text/plain": [
       "Computing transition probabilities:   0%|          | 0/2708 [00:00<?, ?it/s]"
      ]
     },
     "metadata": {},
     "output_type": "display_data"
    },
    {
     "name": "stderr",
     "output_type": "stream",
     "text": [
      "Generating walks (CPU: 1): 100%|████████████████| 50/50 [00:40<00:00,  1.22it/s]\n"
     ]
    },
    {
     "name": "stdout",
     "output_type": "stream",
     "text": [
      "[128, 80, 50, 4, 1]\n",
      "Running classification on split  1\n",
      "Running classification on split  2\n",
      "Running classification on split  3\n"
     ]
    },
    {
     "data": {
      "application/vnd.jupyter.widget-view+json": {
       "model_id": "9c447f608e4e4d53bb4e864a883b979c",
       "version_major": 2,
       "version_minor": 0
      },
      "text/plain": [
       "Computing transition probabilities:   0%|          | 0/2708 [00:00<?, ?it/s]"
      ]
     },
     "metadata": {},
     "output_type": "display_data"
    },
    {
     "name": "stderr",
     "output_type": "stream",
     "text": [
      "Generating walks (CPU: 1): 100%|████████████████| 50/50 [00:41<00:00,  1.22it/s]\n"
     ]
    },
    {
     "name": "stdout",
     "output_type": "stream",
     "text": [
      "[128, 80, 50, 4, 2]\n",
      "Running classification on split  1\n",
      "Running classification on split  2\n",
      "Running classification on split  3\n"
     ]
    },
    {
     "data": {
      "application/vnd.jupyter.widget-view+json": {
       "model_id": "0039bb9ef0cc406f8a32896f0ff0e8ec",
       "version_major": 2,
       "version_minor": 0
      },
      "text/plain": [
       "Computing transition probabilities:   0%|          | 0/2708 [00:00<?, ?it/s]"
      ]
     },
     "metadata": {},
     "output_type": "display_data"
    },
    {
     "name": "stderr",
     "output_type": "stream",
     "text": [
      "Generating walks (CPU: 1): 100%|████████████████| 50/50 [00:41<00:00,  1.20it/s]\n"
     ]
    },
    {
     "name": "stdout",
     "output_type": "stream",
     "text": [
      "[128, 80, 50, 4, 4]\n",
      "Running classification on split  1\n",
      "Running classification on split  2\n",
      "Running classification on split  3\n"
     ]
    }
   ],
   "source": [
    "# Define downstream classification model\n",
    "knn = KNeighborsClassifier(metric='euclidean', n_neighbors=4, weights='distance')\n",
    "\n",
    "# parameters dict for node2vec\n",
    "dimensions = 128\n",
    "walk_length = 80\n",
    "num_walks = 50\n",
    "\n",
    "acc_hist = []\n",
    "time_hist = []\n",
    "parameter_hist = []\n",
    "\n",
    "for p in [0.25,0.5,1,2,4]:\n",
    "    for q in [0.25,0.5,1,2,4]:\n",
    "        # create node2vec model\n",
    "        node2vec = Node2Vec(graph=g, dimensions=dimensions, walk_length=walk_length, num_walks=num_walks,\n",
    "                            p=p, q=q, seed=0)\n",
    "        parameters=[dimensions,walk_length,num_walks,p,q]\n",
    "        print(parameters)\n",
    "        parameter_hist.append(parameters)\n",
    "        \n",
    "        # filename\n",
    "        EMBEDDING_FILENAME = \"embedding/\" + str(parameters) + \".txt\"\n",
    "        \n",
    "        # run pipeline\n",
    "        start = time.time()\n",
    "        acc_model = pipeline(transformer=node2vec, classifier=knn, EMBEDDING_FILENAME=EMBEDDING_FILENAME)\n",
    "        end = time.time()\n",
    "        \n",
    "        acc_hist.append(acc_model)\n",
    "        time_hist.append(end-start)     "
   ]
  },
  {
   "cell_type": "code",
   "execution_count": 6,
   "id": "fa68c03d",
   "metadata": {},
   "outputs": [
    {
     "data": {
      "text/plain": [
       "[128, 80, 50, 2, 1]"
      ]
     },
     "execution_count": 6,
     "metadata": {},
     "output_type": "execute_result"
    }
   ],
   "source": [
    "max_index = acc_hist.index(max(acc_hist))\n",
    "para = parameter_hist[max_index]\n",
    "para"
   ]
  },
  {
   "cell_type": "markdown",
   "id": "fbabd5ba",
   "metadata": {},
   "source": [
    "## Grid search results"
   ]
  },
  {
   "cell_type": "code",
   "execution_count": 7,
   "id": "09c1f470",
   "metadata": {},
   "outputs": [
    {
     "data": {
      "text/html": [
       "<div>\n",
       "<style scoped>\n",
       "    .dataframe tbody tr th:only-of-type {\n",
       "        vertical-align: middle;\n",
       "    }\n",
       "\n",
       "    .dataframe tbody tr th {\n",
       "        vertical-align: top;\n",
       "    }\n",
       "\n",
       "    .dataframe thead th {\n",
       "        text-align: right;\n",
       "    }\n",
       "</style>\n",
       "<table border=\"1\" class=\"dataframe\">\n",
       "  <thead>\n",
       "    <tr style=\"text-align: right;\">\n",
       "      <th></th>\n",
       "      <th>dimensions</th>\n",
       "      <th>walk_length</th>\n",
       "      <th>num_walks</th>\n",
       "      <th>p</th>\n",
       "      <th>q</th>\n",
       "      <th>accuracy</th>\n",
       "      <th>time</th>\n",
       "    </tr>\n",
       "  </thead>\n",
       "  <tbody>\n",
       "    <tr>\n",
       "      <th>0</th>\n",
       "      <td>128</td>\n",
       "      <td>80</td>\n",
       "      <td>50</td>\n",
       "      <td>0.25</td>\n",
       "      <td>0.25</td>\n",
       "      <td>0.841587</td>\n",
       "      <td>365.462466</td>\n",
       "    </tr>\n",
       "    <tr>\n",
       "      <th>1</th>\n",
       "      <td>128</td>\n",
       "      <td>80</td>\n",
       "      <td>50</td>\n",
       "      <td>0.25</td>\n",
       "      <td>0.50</td>\n",
       "      <td>0.837526</td>\n",
       "      <td>354.827043</td>\n",
       "    </tr>\n",
       "    <tr>\n",
       "      <th>2</th>\n",
       "      <td>128</td>\n",
       "      <td>80</td>\n",
       "      <td>50</td>\n",
       "      <td>0.25</td>\n",
       "      <td>1.00</td>\n",
       "      <td>0.831251</td>\n",
       "      <td>338.969633</td>\n",
       "    </tr>\n",
       "    <tr>\n",
       "      <th>3</th>\n",
       "      <td>128</td>\n",
       "      <td>80</td>\n",
       "      <td>50</td>\n",
       "      <td>0.25</td>\n",
       "      <td>2.00</td>\n",
       "      <td>0.833096</td>\n",
       "      <td>320.228759</td>\n",
       "    </tr>\n",
       "    <tr>\n",
       "      <th>4</th>\n",
       "      <td>128</td>\n",
       "      <td>80</td>\n",
       "      <td>50</td>\n",
       "      <td>0.25</td>\n",
       "      <td>4.00</td>\n",
       "      <td>0.827187</td>\n",
       "      <td>304.844336</td>\n",
       "    </tr>\n",
       "    <tr>\n",
       "      <th>5</th>\n",
       "      <td>128</td>\n",
       "      <td>80</td>\n",
       "      <td>50</td>\n",
       "      <td>0.50</td>\n",
       "      <td>0.25</td>\n",
       "      <td>0.843064</td>\n",
       "      <td>374.866015</td>\n",
       "    </tr>\n",
       "    <tr>\n",
       "      <th>6</th>\n",
       "      <td>128</td>\n",
       "      <td>80</td>\n",
       "      <td>50</td>\n",
       "      <td>0.50</td>\n",
       "      <td>0.50</td>\n",
       "      <td>0.839743</td>\n",
       "      <td>369.816785</td>\n",
       "    </tr>\n",
       "    <tr>\n",
       "      <th>7</th>\n",
       "      <td>128</td>\n",
       "      <td>80</td>\n",
       "      <td>50</td>\n",
       "      <td>0.50</td>\n",
       "      <td>1.00</td>\n",
       "      <td>0.837528</td>\n",
       "      <td>358.433106</td>\n",
       "    </tr>\n",
       "    <tr>\n",
       "      <th>8</th>\n",
       "      <td>128</td>\n",
       "      <td>80</td>\n",
       "      <td>50</td>\n",
       "      <td>0.50</td>\n",
       "      <td>2.00</td>\n",
       "      <td>0.831249</td>\n",
       "      <td>342.237712</td>\n",
       "    </tr>\n",
       "    <tr>\n",
       "      <th>9</th>\n",
       "      <td>128</td>\n",
       "      <td>80</td>\n",
       "      <td>50</td>\n",
       "      <td>0.50</td>\n",
       "      <td>4.00</td>\n",
       "      <td>0.832359</td>\n",
       "      <td>322.873894</td>\n",
       "    </tr>\n",
       "    <tr>\n",
       "      <th>10</th>\n",
       "      <td>128</td>\n",
       "      <td>80</td>\n",
       "      <td>50</td>\n",
       "      <td>1.00</td>\n",
       "      <td>0.25</td>\n",
       "      <td>0.841587</td>\n",
       "      <td>378.746608</td>\n",
       "    </tr>\n",
       "    <tr>\n",
       "      <th>11</th>\n",
       "      <td>128</td>\n",
       "      <td>80</td>\n",
       "      <td>50</td>\n",
       "      <td>1.00</td>\n",
       "      <td>0.50</td>\n",
       "      <td>0.842695</td>\n",
       "      <td>374.781177</td>\n",
       "    </tr>\n",
       "    <tr>\n",
       "      <th>12</th>\n",
       "      <td>128</td>\n",
       "      <td>80</td>\n",
       "      <td>50</td>\n",
       "      <td>1.00</td>\n",
       "      <td>1.00</td>\n",
       "      <td>0.846020</td>\n",
       "      <td>368.150597</td>\n",
       "    </tr>\n",
       "    <tr>\n",
       "      <th>13</th>\n",
       "      <td>128</td>\n",
       "      <td>80</td>\n",
       "      <td>50</td>\n",
       "      <td>1.00</td>\n",
       "      <td>2.00</td>\n",
       "      <td>0.836789</td>\n",
       "      <td>355.922886</td>\n",
       "    </tr>\n",
       "    <tr>\n",
       "      <th>14</th>\n",
       "      <td>128</td>\n",
       "      <td>80</td>\n",
       "      <td>50</td>\n",
       "      <td>1.00</td>\n",
       "      <td>4.00</td>\n",
       "      <td>0.832357</td>\n",
       "      <td>337.858209</td>\n",
       "    </tr>\n",
       "    <tr>\n",
       "      <th>15</th>\n",
       "      <td>128</td>\n",
       "      <td>80</td>\n",
       "      <td>50</td>\n",
       "      <td>2.00</td>\n",
       "      <td>0.25</td>\n",
       "      <td>0.843801</td>\n",
       "      <td>377.803664</td>\n",
       "    </tr>\n",
       "    <tr>\n",
       "      <th>16</th>\n",
       "      <td>128</td>\n",
       "      <td>80</td>\n",
       "      <td>50</td>\n",
       "      <td>2.00</td>\n",
       "      <td>0.50</td>\n",
       "      <td>0.844172</td>\n",
       "      <td>374.187151</td>\n",
       "    </tr>\n",
       "    <tr>\n",
       "      <th>17</th>\n",
       "      <td>128</td>\n",
       "      <td>80</td>\n",
       "      <td>50</td>\n",
       "      <td>2.00</td>\n",
       "      <td>1.00</td>\n",
       "      <td>0.847495</td>\n",
       "      <td>370.470108</td>\n",
       "    </tr>\n",
       "    <tr>\n",
       "      <th>18</th>\n",
       "      <td>128</td>\n",
       "      <td>80</td>\n",
       "      <td>50</td>\n",
       "      <td>2.00</td>\n",
       "      <td>2.00</td>\n",
       "      <td>0.839742</td>\n",
       "      <td>361.168774</td>\n",
       "    </tr>\n",
       "    <tr>\n",
       "      <th>19</th>\n",
       "      <td>128</td>\n",
       "      <td>80</td>\n",
       "      <td>50</td>\n",
       "      <td>2.00</td>\n",
       "      <td>4.00</td>\n",
       "      <td>0.839741</td>\n",
       "      <td>346.972243</td>\n",
       "    </tr>\n",
       "    <tr>\n",
       "      <th>20</th>\n",
       "      <td>128</td>\n",
       "      <td>80</td>\n",
       "      <td>50</td>\n",
       "      <td>4.00</td>\n",
       "      <td>0.25</td>\n",
       "      <td>0.838631</td>\n",
       "      <td>381.117395</td>\n",
       "    </tr>\n",
       "    <tr>\n",
       "      <th>21</th>\n",
       "      <td>128</td>\n",
       "      <td>80</td>\n",
       "      <td>50</td>\n",
       "      <td>4.00</td>\n",
       "      <td>0.50</td>\n",
       "      <td>0.841586</td>\n",
       "      <td>380.112637</td>\n",
       "    </tr>\n",
       "    <tr>\n",
       "      <th>22</th>\n",
       "      <td>128</td>\n",
       "      <td>80</td>\n",
       "      <td>50</td>\n",
       "      <td>4.00</td>\n",
       "      <td>1.00</td>\n",
       "      <td>0.842695</td>\n",
       "      <td>376.058452</td>\n",
       "    </tr>\n",
       "    <tr>\n",
       "      <th>23</th>\n",
       "      <td>128</td>\n",
       "      <td>80</td>\n",
       "      <td>50</td>\n",
       "      <td>4.00</td>\n",
       "      <td>2.00</td>\n",
       "      <td>0.840848</td>\n",
       "      <td>369.618545</td>\n",
       "    </tr>\n",
       "    <tr>\n",
       "      <th>24</th>\n",
       "      <td>128</td>\n",
       "      <td>80</td>\n",
       "      <td>50</td>\n",
       "      <td>4.00</td>\n",
       "      <td>4.00</td>\n",
       "      <td>0.843064</td>\n",
       "      <td>358.335377</td>\n",
       "    </tr>\n",
       "  </tbody>\n",
       "</table>\n",
       "</div>"
      ],
      "text/plain": [
       "    dimensions  walk_length  num_walks     p     q  accuracy        time\n",
       "0          128           80         50  0.25  0.25  0.841587  365.462466\n",
       "1          128           80         50  0.25  0.50  0.837526  354.827043\n",
       "2          128           80         50  0.25  1.00  0.831251  338.969633\n",
       "3          128           80         50  0.25  2.00  0.833096  320.228759\n",
       "4          128           80         50  0.25  4.00  0.827187  304.844336\n",
       "5          128           80         50  0.50  0.25  0.843064  374.866015\n",
       "6          128           80         50  0.50  0.50  0.839743  369.816785\n",
       "7          128           80         50  0.50  1.00  0.837528  358.433106\n",
       "8          128           80         50  0.50  2.00  0.831249  342.237712\n",
       "9          128           80         50  0.50  4.00  0.832359  322.873894\n",
       "10         128           80         50  1.00  0.25  0.841587  378.746608\n",
       "11         128           80         50  1.00  0.50  0.842695  374.781177\n",
       "12         128           80         50  1.00  1.00  0.846020  368.150597\n",
       "13         128           80         50  1.00  2.00  0.836789  355.922886\n",
       "14         128           80         50  1.00  4.00  0.832357  337.858209\n",
       "15         128           80         50  2.00  0.25  0.843801  377.803664\n",
       "16         128           80         50  2.00  0.50  0.844172  374.187151\n",
       "17         128           80         50  2.00  1.00  0.847495  370.470108\n",
       "18         128           80         50  2.00  2.00  0.839742  361.168774\n",
       "19         128           80         50  2.00  4.00  0.839741  346.972243\n",
       "20         128           80         50  4.00  0.25  0.838631  381.117395\n",
       "21         128           80         50  4.00  0.50  0.841586  380.112637\n",
       "22         128           80         50  4.00  1.00  0.842695  376.058452\n",
       "23         128           80         50  4.00  2.00  0.840848  369.618545\n",
       "24         128           80         50  4.00  4.00  0.843064  358.335377"
      ]
     },
     "execution_count": 7,
     "metadata": {},
     "output_type": "execute_result"
    }
   ],
   "source": [
    "para_df = pd.DataFrame(parameter_hist, columns=['dimensions','walk_length','num_walks','p','q'])\n",
    "para_df['accuracy'] = acc_hist\n",
    "para_df['time'] = time_hist\n",
    "para_df"
   ]
  },
  {
   "cell_type": "code",
   "execution_count": 11,
   "id": "84f6a966",
   "metadata": {},
   "outputs": [
    {
     "name": "stderr",
     "output_type": "stream",
     "text": [
      "[1209/141520.590472:ERROR:xattr.cc(63)] setxattr org.chromium.crashpad.database.initialized on file /var/folders/76/p5884tp57fj2wy8qn17tpc6c0000gn/T/: Operation not permitted (1)\n",
      "[1209/141520.594254:ERROR:file_io.cc(94)] ReadExactly: expected 8, observed 0\n",
      "[1209/141520.596056:ERROR:xattr.cc(63)] setxattr org.chromium.crashpad.database.initialized on file /var/folders/76/p5884tp57fj2wy8qn17tpc6c0000gn/T/: Operation not permitted (1)\n",
      "[1209/141521.684620:INFO:headless_shell.cc(653)] Written to file /var/folders/76/p5884tp57fj2wy8qn17tpc6c0000gn/T/tmp1lmx_0em/temp.png.\n"
     ]
    }
   ],
   "source": [
    "import dataframe_image as dfi\n",
    "df_styled = para_df.style.background_gradient(cmap='Greys')\n",
    "dfi.export(df_styled,'images/grid_search_scores.png')"
   ]
  }
 ],
 "metadata": {
  "kernelspec": {
   "display_name": "embeddings",
   "language": "python",
   "name": "embeddings"
  },
  "language_info": {
   "codemirror_mode": {
    "name": "ipython",
    "version": 3
   },
   "file_extension": ".py",
   "mimetype": "text/x-python",
   "name": "python",
   "nbconvert_exporter": "python",
   "pygments_lexer": "ipython3",
   "version": "3.9.6"
  },
  "toc": {
   "base_numbering": 1,
   "nav_menu": {},
   "number_sections": true,
   "sideBar": true,
   "skip_h1_title": false,
   "title_cell": "Table of Contents",
   "title_sidebar": "Contents",
   "toc_cell": false,
   "toc_position": {},
   "toc_section_display": true,
   "toc_window_display": true
  },
  "varInspector": {
   "cols": {
    "lenName": 16,
    "lenType": 16,
    "lenVar": 40
   },
   "kernels_config": {
    "python": {
     "delete_cmd_postfix": "",
     "delete_cmd_prefix": "del ",
     "library": "var_list.py",
     "varRefreshCmd": "print(var_dic_list())"
    },
    "r": {
     "delete_cmd_postfix": ") ",
     "delete_cmd_prefix": "rm(",
     "library": "var_list.r",
     "varRefreshCmd": "cat(var_dic_list()) "
    }
   },
   "types_to_exclude": [
    "module",
    "function",
    "builtin_function_or_method",
    "instance",
    "_Feature"
   ],
   "window_display": false
  }
 },
 "nbformat": 4,
 "nbformat_minor": 5
}

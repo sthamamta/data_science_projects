{
 "cells": [
  {
   "cell_type": "code",
   "execution_count": 1,
   "id": "cac90289",
   "metadata": {},
   "outputs": [],
   "source": [
    "import numpy as np\n",
    "import pandas as pd \n",
    "import matplotlib.pyplot as plt\n",
    "import networkx as nx\n",
    "import time\n",
    "from node2vec import Node2Vec\n",
    "from sklearn.model_selection import train_test_split\n",
    "from sklearn.metrics import accuracy_score\n",
    "from sklearn.metrics import f1_score"
   ]
  },
  {
   "cell_type": "markdown",
   "id": "65b1aa85",
   "metadata": {},
   "source": [
    "## Load data"
   ]
  },
  {
   "cell_type": "code",
   "execution_count": 2,
   "id": "110e4f27",
   "metadata": {},
   "outputs": [
    {
     "data": {
      "text/plain": [
       "array([[     35],\n",
       "       [     40],\n",
       "       [    114],\n",
       "       ...,\n",
       "       [1154524],\n",
       "       [1154525],\n",
       "       [1155073]])"
      ]
     },
     "execution_count": 2,
     "metadata": {},
     "output_type": "execute_result"
    }
   ],
   "source": [
    "nodes = pd.read_csv('data/cora.content', sep='\\t', header=None)\n",
    "nodes = nodes.rename(columns={0:'id', 1434:'class'})\n",
    "X = nodes[['id']]\n",
    "X = X.sort_values(by=['id'])\n",
    "X = np.array(X[['id']])\n",
    "X"
   ]
  },
  {
   "cell_type": "code",
   "execution_count": 3,
   "id": "bc42a1ee",
   "metadata": {},
   "outputs": [
    {
     "data": {
      "text/plain": [
       "array(['Genetic_Algorithms', 'Genetic_Algorithms',\n",
       "       'Reinforcement_Learning', ..., 'Rule_Learning', 'Rule_Learning',\n",
       "       'Rule_Learning'], dtype=object)"
      ]
     },
     "execution_count": 3,
     "metadata": {},
     "output_type": "execute_result"
    }
   ],
   "source": [
    "y = nodes[['id','class']]\n",
    "y = y.sort_values(by=['id'])\n",
    "y = np.ravel(np.array(y[['class']]))\n",
    "y"
   ]
  },
  {
   "cell_type": "code",
   "execution_count": 4,
   "id": "6d35b4e8",
   "metadata": {},
   "outputs": [
    {
     "data": {
      "text/html": [
       "<div>\n",
       "<style scoped>\n",
       "    .dataframe tbody tr th:only-of-type {\n",
       "        vertical-align: middle;\n",
       "    }\n",
       "\n",
       "    .dataframe tbody tr th {\n",
       "        vertical-align: top;\n",
       "    }\n",
       "\n",
       "    .dataframe thead th {\n",
       "        text-align: right;\n",
       "    }\n",
       "</style>\n",
       "<table border=\"1\" class=\"dataframe\">\n",
       "  <thead>\n",
       "    <tr style=\"text-align: right;\">\n",
       "      <th></th>\n",
       "      <th>id1</th>\n",
       "      <th>id2</th>\n",
       "    </tr>\n",
       "  </thead>\n",
       "  <tbody>\n",
       "    <tr>\n",
       "      <th>0</th>\n",
       "      <td>35</td>\n",
       "      <td>1033</td>\n",
       "    </tr>\n",
       "    <tr>\n",
       "      <th>1</th>\n",
       "      <td>35</td>\n",
       "      <td>103482</td>\n",
       "    </tr>\n",
       "    <tr>\n",
       "      <th>2</th>\n",
       "      <td>35</td>\n",
       "      <td>103515</td>\n",
       "    </tr>\n",
       "    <tr>\n",
       "      <th>3</th>\n",
       "      <td>35</td>\n",
       "      <td>1050679</td>\n",
       "    </tr>\n",
       "    <tr>\n",
       "      <th>4</th>\n",
       "      <td>35</td>\n",
       "      <td>1103960</td>\n",
       "    </tr>\n",
       "    <tr>\n",
       "      <th>...</th>\n",
       "      <td>...</td>\n",
       "      <td>...</td>\n",
       "    </tr>\n",
       "    <tr>\n",
       "      <th>5424</th>\n",
       "      <td>853116</td>\n",
       "      <td>19621</td>\n",
       "    </tr>\n",
       "    <tr>\n",
       "      <th>5425</th>\n",
       "      <td>853116</td>\n",
       "      <td>853155</td>\n",
       "    </tr>\n",
       "    <tr>\n",
       "      <th>5426</th>\n",
       "      <td>853118</td>\n",
       "      <td>1140289</td>\n",
       "    </tr>\n",
       "    <tr>\n",
       "      <th>5427</th>\n",
       "      <td>853155</td>\n",
       "      <td>853118</td>\n",
       "    </tr>\n",
       "    <tr>\n",
       "      <th>5428</th>\n",
       "      <td>954315</td>\n",
       "      <td>1155073</td>\n",
       "    </tr>\n",
       "  </tbody>\n",
       "</table>\n",
       "<p>5429 rows × 2 columns</p>\n",
       "</div>"
      ],
      "text/plain": [
       "         id1      id2\n",
       "0         35     1033\n",
       "1         35   103482\n",
       "2         35   103515\n",
       "3         35  1050679\n",
       "4         35  1103960\n",
       "...      ...      ...\n",
       "5424  853116    19621\n",
       "5425  853116   853155\n",
       "5426  853118  1140289\n",
       "5427  853155   853118\n",
       "5428  954315  1155073\n",
       "\n",
       "[5429 rows x 2 columns]"
      ]
     },
     "execution_count": 4,
     "metadata": {},
     "output_type": "execute_result"
    }
   ],
   "source": [
    "edges = pd.read_csv('data/cora.cites', sep='\\t', header=None)\n",
    "edges.columns=['id1','id2']\n",
    "edges"
   ]
  },
  {
   "cell_type": "markdown",
   "id": "1588fe01",
   "metadata": {},
   "source": [
    "## Generate graph"
   ]
  },
  {
   "cell_type": "code",
   "execution_count": 5,
   "id": "2ca488c9",
   "metadata": {},
   "outputs": [
    {
     "name": "stdout",
     "output_type": "stream",
     "text": [
      "Graph named 'cora' with 2708 nodes and 5278 edges\n"
     ]
    }
   ],
   "source": [
    "#networkx graph\n",
    "g = nx.Graph()\n",
    "g.graph['name'] = 'cora'\n",
    "g.add_nodes_from(nodes['id'].values)\n",
    "g.add_edges_from(edges.values)\n",
    "\n",
    "nx.write_gpickle(g, 'data/cora.gml')\n",
    "print(g)"
   ]
  },
  {
   "cell_type": "code",
   "execution_count": 6,
   "id": "7361aa32",
   "metadata": {},
   "outputs": [
    {
     "data": {
      "text/plain": [
       "3.8980797636632203"
      ]
     },
     "execution_count": 6,
     "metadata": {},
     "output_type": "execute_result"
    }
   ],
   "source": [
    "# network degree\n",
    "total_degree = 0\n",
    "for node in g.nodes():\n",
    "    total_degree += g.degree(node)\n",
    "    \n",
    "avg_degree = total_degree/g.number_of_nodes()\n",
    "avg_degree\n",
    "\n",
    "# use k=4"
   ]
  },
  {
   "cell_type": "markdown",
   "id": "401df65c",
   "metadata": {},
   "source": [
    "## Run node2vec with default settings to get embeddings"
   ]
  },
  {
   "cell_type": "code",
   "execution_count": 7,
   "id": "0aac19b1",
   "metadata": {},
   "outputs": [
    {
     "data": {
      "application/vnd.jupyter.widget-view+json": {
       "model_id": "18d8075185514a7192f4673cb22ecb73",
       "version_major": 2,
       "version_minor": 0
      },
      "text/plain": [
       "Computing transition probabilities:   0%|          | 0/2708 [00:00<?, ?it/s]"
      ]
     },
     "metadata": {},
     "output_type": "display_data"
    },
    {
     "name": "stderr",
     "output_type": "stream",
     "text": [
      "Generating walks (CPU: 1): 100%|████████████████| 10/10 [00:07<00:00,  1.28it/s]\n"
     ]
    },
    {
     "data": {
      "text/html": [
       "<div>\n",
       "<style scoped>\n",
       "    .dataframe tbody tr th:only-of-type {\n",
       "        vertical-align: middle;\n",
       "    }\n",
       "\n",
       "    .dataframe tbody tr th {\n",
       "        vertical-align: top;\n",
       "    }\n",
       "\n",
       "    .dataframe thead th {\n",
       "        text-align: right;\n",
       "    }\n",
       "</style>\n",
       "<table border=\"1\" class=\"dataframe\">\n",
       "  <thead>\n",
       "    <tr style=\"text-align: right;\">\n",
       "      <th></th>\n",
       "      <th>1</th>\n",
       "      <th>2</th>\n",
       "      <th>3</th>\n",
       "      <th>4</th>\n",
       "      <th>5</th>\n",
       "      <th>6</th>\n",
       "      <th>7</th>\n",
       "      <th>8</th>\n",
       "      <th>9</th>\n",
       "      <th>10</th>\n",
       "      <th>...</th>\n",
       "      <th>119</th>\n",
       "      <th>120</th>\n",
       "      <th>121</th>\n",
       "      <th>122</th>\n",
       "      <th>123</th>\n",
       "      <th>124</th>\n",
       "      <th>125</th>\n",
       "      <th>126</th>\n",
       "      <th>127</th>\n",
       "      <th>128</th>\n",
       "    </tr>\n",
       "  </thead>\n",
       "  <tbody>\n",
       "    <tr>\n",
       "      <th>0</th>\n",
       "      <td>0.024055</td>\n",
       "      <td>0.077034</td>\n",
       "      <td>-0.058195</td>\n",
       "      <td>0.168847</td>\n",
       "      <td>-0.341042</td>\n",
       "      <td>-0.214147</td>\n",
       "      <td>0.417767</td>\n",
       "      <td>0.625977</td>\n",
       "      <td>-0.280996</td>\n",
       "      <td>-0.102391</td>\n",
       "      <td>...</td>\n",
       "      <td>0.017681</td>\n",
       "      <td>-0.013077</td>\n",
       "      <td>0.391348</td>\n",
       "      <td>-0.180267</td>\n",
       "      <td>0.786786</td>\n",
       "      <td>-0.049900</td>\n",
       "      <td>0.045178</td>\n",
       "      <td>0.352553</td>\n",
       "      <td>0.006776</td>\n",
       "      <td>0.165722</td>\n",
       "    </tr>\n",
       "    <tr>\n",
       "      <th>1193</th>\n",
       "      <td>-0.165536</td>\n",
       "      <td>-0.094804</td>\n",
       "      <td>-0.025823</td>\n",
       "      <td>-0.350613</td>\n",
       "      <td>0.077264</td>\n",
       "      <td>-0.264253</td>\n",
       "      <td>0.223034</td>\n",
       "      <td>0.115054</td>\n",
       "      <td>0.181867</td>\n",
       "      <td>-0.014536</td>\n",
       "      <td>...</td>\n",
       "      <td>-0.108528</td>\n",
       "      <td>0.517046</td>\n",
       "      <td>0.394003</td>\n",
       "      <td>-0.464339</td>\n",
       "      <td>0.922098</td>\n",
       "      <td>0.074979</td>\n",
       "      <td>-0.165107</td>\n",
       "      <td>0.270172</td>\n",
       "      <td>-0.394128</td>\n",
       "      <td>-0.562878</td>\n",
       "    </tr>\n",
       "    <tr>\n",
       "      <th>6</th>\n",
       "      <td>0.344501</td>\n",
       "      <td>-0.440875</td>\n",
       "      <td>0.045956</td>\n",
       "      <td>-0.313090</td>\n",
       "      <td>0.326382</td>\n",
       "      <td>-0.147178</td>\n",
       "      <td>0.463841</td>\n",
       "      <td>0.291187</td>\n",
       "      <td>-0.219282</td>\n",
       "      <td>0.184543</td>\n",
       "      <td>...</td>\n",
       "      <td>0.209984</td>\n",
       "      <td>-0.060198</td>\n",
       "      <td>0.089960</td>\n",
       "      <td>0.117316</td>\n",
       "      <td>0.374668</td>\n",
       "      <td>-0.178705</td>\n",
       "      <td>-0.095150</td>\n",
       "      <td>0.186651</td>\n",
       "      <td>0.743144</td>\n",
       "      <td>-0.079844</td>\n",
       "    </tr>\n",
       "    <tr>\n",
       "      <th>44</th>\n",
       "      <td>0.120736</td>\n",
       "      <td>0.000865</td>\n",
       "      <td>-0.265791</td>\n",
       "      <td>-0.046966</td>\n",
       "      <td>0.032744</td>\n",
       "      <td>0.085427</td>\n",
       "      <td>0.163420</td>\n",
       "      <td>0.107061</td>\n",
       "      <td>-0.299424</td>\n",
       "      <td>0.215604</td>\n",
       "      <td>...</td>\n",
       "      <td>-0.160350</td>\n",
       "      <td>-0.301376</td>\n",
       "      <td>0.700644</td>\n",
       "      <td>-0.135891</td>\n",
       "      <td>0.329379</td>\n",
       "      <td>-0.035468</td>\n",
       "      <td>0.123842</td>\n",
       "      <td>0.098557</td>\n",
       "      <td>0.446801</td>\n",
       "      <td>-0.305517</td>\n",
       "    </tr>\n",
       "    <tr>\n",
       "      <th>231</th>\n",
       "      <td>0.402695</td>\n",
       "      <td>-0.130377</td>\n",
       "      <td>-0.017250</td>\n",
       "      <td>-0.164055</td>\n",
       "      <td>0.130702</td>\n",
       "      <td>0.159816</td>\n",
       "      <td>0.272824</td>\n",
       "      <td>0.356330</td>\n",
       "      <td>0.130340</td>\n",
       "      <td>0.502823</td>\n",
       "      <td>...</td>\n",
       "      <td>0.086221</td>\n",
       "      <td>0.215433</td>\n",
       "      <td>0.101051</td>\n",
       "      <td>-0.003670</td>\n",
       "      <td>0.258163</td>\n",
       "      <td>0.145098</td>\n",
       "      <td>0.119894</td>\n",
       "      <td>0.508259</td>\n",
       "      <td>0.526998</td>\n",
       "      <td>-0.087674</td>\n",
       "    </tr>\n",
       "    <tr>\n",
       "      <th>...</th>\n",
       "      <td>...</td>\n",
       "      <td>...</td>\n",
       "      <td>...</td>\n",
       "      <td>...</td>\n",
       "      <td>...</td>\n",
       "      <td>...</td>\n",
       "      <td>...</td>\n",
       "      <td>...</td>\n",
       "      <td>...</td>\n",
       "      <td>...</td>\n",
       "      <td>...</td>\n",
       "      <td>...</td>\n",
       "      <td>...</td>\n",
       "      <td>...</td>\n",
       "      <td>...</td>\n",
       "      <td>...</td>\n",
       "      <td>...</td>\n",
       "      <td>...</td>\n",
       "      <td>...</td>\n",
       "      <td>...</td>\n",
       "      <td>...</td>\n",
       "    </tr>\n",
       "    <tr>\n",
       "      <th>2653</th>\n",
       "      <td>0.113710</td>\n",
       "      <td>0.077899</td>\n",
       "      <td>0.375364</td>\n",
       "      <td>-0.427762</td>\n",
       "      <td>-0.027568</td>\n",
       "      <td>-0.278118</td>\n",
       "      <td>0.067321</td>\n",
       "      <td>0.314763</td>\n",
       "      <td>-0.265302</td>\n",
       "      <td>0.493658</td>\n",
       "      <td>...</td>\n",
       "      <td>0.321358</td>\n",
       "      <td>-0.075847</td>\n",
       "      <td>0.069607</td>\n",
       "      <td>0.188991</td>\n",
       "      <td>0.233403</td>\n",
       "      <td>0.320667</td>\n",
       "      <td>-0.105589</td>\n",
       "      <td>0.675484</td>\n",
       "      <td>0.583699</td>\n",
       "      <td>-0.105776</td>\n",
       "    </tr>\n",
       "    <tr>\n",
       "      <th>2630</th>\n",
       "      <td>0.241529</td>\n",
       "      <td>0.134525</td>\n",
       "      <td>0.226960</td>\n",
       "      <td>-0.804236</td>\n",
       "      <td>-0.107837</td>\n",
       "      <td>-0.038342</td>\n",
       "      <td>0.332217</td>\n",
       "      <td>0.563926</td>\n",
       "      <td>-0.338702</td>\n",
       "      <td>-0.146623</td>\n",
       "      <td>...</td>\n",
       "      <td>0.644778</td>\n",
       "      <td>0.036874</td>\n",
       "      <td>-0.181222</td>\n",
       "      <td>-0.897460</td>\n",
       "      <td>0.544132</td>\n",
       "      <td>-0.011032</td>\n",
       "      <td>-1.010047</td>\n",
       "      <td>0.153897</td>\n",
       "      <td>-0.133675</td>\n",
       "      <td>-0.202045</td>\n",
       "    </tr>\n",
       "    <tr>\n",
       "      <th>1393</th>\n",
       "      <td>0.426767</td>\n",
       "      <td>-0.377798</td>\n",
       "      <td>-0.560503</td>\n",
       "      <td>-1.256571</td>\n",
       "      <td>-0.052457</td>\n",
       "      <td>0.327006</td>\n",
       "      <td>-0.188007</td>\n",
       "      <td>0.320513</td>\n",
       "      <td>0.794590</td>\n",
       "      <td>0.294410</td>\n",
       "      <td>...</td>\n",
       "      <td>0.605075</td>\n",
       "      <td>-0.504393</td>\n",
       "      <td>0.057065</td>\n",
       "      <td>-0.999138</td>\n",
       "      <td>0.251195</td>\n",
       "      <td>0.593607</td>\n",
       "      <td>-0.308273</td>\n",
       "      <td>0.525212</td>\n",
       "      <td>0.571010</td>\n",
       "      <td>0.691113</td>\n",
       "    </tr>\n",
       "    <tr>\n",
       "      <th>1107</th>\n",
       "      <td>0.245987</td>\n",
       "      <td>-0.368888</td>\n",
       "      <td>-0.140418</td>\n",
       "      <td>-0.631000</td>\n",
       "      <td>-0.175155</td>\n",
       "      <td>0.225796</td>\n",
       "      <td>0.077935</td>\n",
       "      <td>0.508195</td>\n",
       "      <td>0.335814</td>\n",
       "      <td>0.599936</td>\n",
       "      <td>...</td>\n",
       "      <td>0.255034</td>\n",
       "      <td>0.052670</td>\n",
       "      <td>0.066840</td>\n",
       "      <td>-0.182370</td>\n",
       "      <td>0.832294</td>\n",
       "      <td>0.227124</td>\n",
       "      <td>-0.444042</td>\n",
       "      <td>1.276122</td>\n",
       "      <td>0.206663</td>\n",
       "      <td>0.088754</td>\n",
       "    </tr>\n",
       "    <tr>\n",
       "      <th>1549</th>\n",
       "      <td>-0.001773</td>\n",
       "      <td>-0.043216</td>\n",
       "      <td>-0.068325</td>\n",
       "      <td>-0.106520</td>\n",
       "      <td>0.077726</td>\n",
       "      <td>-0.331206</td>\n",
       "      <td>0.425293</td>\n",
       "      <td>0.354687</td>\n",
       "      <td>-0.194480</td>\n",
       "      <td>0.195356</td>\n",
       "      <td>...</td>\n",
       "      <td>0.750538</td>\n",
       "      <td>-0.532155</td>\n",
       "      <td>0.048505</td>\n",
       "      <td>0.060615</td>\n",
       "      <td>0.094211</td>\n",
       "      <td>0.967571</td>\n",
       "      <td>-0.343205</td>\n",
       "      <td>0.482827</td>\n",
       "      <td>0.005915</td>\n",
       "      <td>0.043708</td>\n",
       "    </tr>\n",
       "  </tbody>\n",
       "</table>\n",
       "<p>2708 rows × 128 columns</p>\n",
       "</div>"
      ],
      "text/plain": [
       "           1         2         3         4         5         6         7    \\\n",
       "0     0.024055  0.077034 -0.058195  0.168847 -0.341042 -0.214147  0.417767   \n",
       "1193 -0.165536 -0.094804 -0.025823 -0.350613  0.077264 -0.264253  0.223034   \n",
       "6     0.344501 -0.440875  0.045956 -0.313090  0.326382 -0.147178  0.463841   \n",
       "44    0.120736  0.000865 -0.265791 -0.046966  0.032744  0.085427  0.163420   \n",
       "231   0.402695 -0.130377 -0.017250 -0.164055  0.130702  0.159816  0.272824   \n",
       "...        ...       ...       ...       ...       ...       ...       ...   \n",
       "2653  0.113710  0.077899  0.375364 -0.427762 -0.027568 -0.278118  0.067321   \n",
       "2630  0.241529  0.134525  0.226960 -0.804236 -0.107837 -0.038342  0.332217   \n",
       "1393  0.426767 -0.377798 -0.560503 -1.256571 -0.052457  0.327006 -0.188007   \n",
       "1107  0.245987 -0.368888 -0.140418 -0.631000 -0.175155  0.225796  0.077935   \n",
       "1549 -0.001773 -0.043216 -0.068325 -0.106520  0.077726 -0.331206  0.425293   \n",
       "\n",
       "           8         9         10   ...       119       120       121  \\\n",
       "0     0.625977 -0.280996 -0.102391  ...  0.017681 -0.013077  0.391348   \n",
       "1193  0.115054  0.181867 -0.014536  ... -0.108528  0.517046  0.394003   \n",
       "6     0.291187 -0.219282  0.184543  ...  0.209984 -0.060198  0.089960   \n",
       "44    0.107061 -0.299424  0.215604  ... -0.160350 -0.301376  0.700644   \n",
       "231   0.356330  0.130340  0.502823  ...  0.086221  0.215433  0.101051   \n",
       "...        ...       ...       ...  ...       ...       ...       ...   \n",
       "2653  0.314763 -0.265302  0.493658  ...  0.321358 -0.075847  0.069607   \n",
       "2630  0.563926 -0.338702 -0.146623  ...  0.644778  0.036874 -0.181222   \n",
       "1393  0.320513  0.794590  0.294410  ...  0.605075 -0.504393  0.057065   \n",
       "1107  0.508195  0.335814  0.599936  ...  0.255034  0.052670  0.066840   \n",
       "1549  0.354687 -0.194480  0.195356  ...  0.750538 -0.532155  0.048505   \n",
       "\n",
       "           122       123       124       125       126       127       128  \n",
       "0    -0.180267  0.786786 -0.049900  0.045178  0.352553  0.006776  0.165722  \n",
       "1193 -0.464339  0.922098  0.074979 -0.165107  0.270172 -0.394128 -0.562878  \n",
       "6     0.117316  0.374668 -0.178705 -0.095150  0.186651  0.743144 -0.079844  \n",
       "44   -0.135891  0.329379 -0.035468  0.123842  0.098557  0.446801 -0.305517  \n",
       "231  -0.003670  0.258163  0.145098  0.119894  0.508259  0.526998 -0.087674  \n",
       "...        ...       ...       ...       ...       ...       ...       ...  \n",
       "2653  0.188991  0.233403  0.320667 -0.105589  0.675484  0.583699 -0.105776  \n",
       "2630 -0.897460  0.544132 -0.011032 -1.010047  0.153897 -0.133675 -0.202045  \n",
       "1393 -0.999138  0.251195  0.593607 -0.308273  0.525212  0.571010  0.691113  \n",
       "1107 -0.182370  0.832294  0.227124 -0.444042  1.276122  0.206663  0.088754  \n",
       "1549  0.060615  0.094211  0.967571 -0.343205  0.482827  0.005915  0.043708  \n",
       "\n",
       "[2708 rows x 128 columns]"
      ]
     },
     "execution_count": 7,
     "metadata": {},
     "output_type": "execute_result"
    }
   ],
   "source": [
    "node2vec = Node2Vec(g, seed=0)\n",
    "\n",
    "# Generate embeddings\n",
    "model = node2vec.fit(window=10, min_count=1, batch_words=4)\n",
    "model.wv.save_word2vec_format('embedding/embedding_init.txt')\n",
    "\n",
    "# Read embeddings\n",
    "emb_df = pd.read_csv('embedding/embedding_init.txt', sep=' ', skiprows=[0], header=None)\n",
    "emb_df = emb_df.sort_values(by=[0])\n",
    "emb_df = emb_df.drop(emb_df.columns[0], axis=1)\n",
    "emb_df"
   ]
  },
  {
   "cell_type": "markdown",
   "id": "b70ccede",
   "metadata": {},
   "source": [
    "## Split data"
   ]
  },
  {
   "cell_type": "code",
   "execution_count": 8,
   "id": "f94b6f8d",
   "metadata": {},
   "outputs": [],
   "source": [
    "# Train Test Split\n",
    "seed = np.random.randint(0, len(emb_df), 1)\n",
    "X_train, X_test, y_train, y_test = train_test_split(emb_df, y, test_size=0.20, random_state=seed[0])\n",
    "y_train = np.ravel(y_train)\n",
    "y_test = np.ravel(y_test)"
   ]
  },
  {
   "cell_type": "markdown",
   "id": "2abfb488",
   "metadata": {},
   "source": [
    "## Classification using embeddings"
   ]
  },
  {
   "cell_type": "code",
   "execution_count": 9,
   "id": "4cd34294",
   "metadata": {},
   "outputs": [],
   "source": [
    "from sklearn.linear_model import LogisticRegression\n",
    "from sklearn.neighbors import KNeighborsClassifier\n",
    "from sklearn import svm\n",
    "from sklearn.naive_bayes import GaussianNB\n",
    "from sklearn.tree import DecisionTreeClassifier\n",
    "\n",
    "# Define classifiers\n",
    "lr = LogisticRegression(multi_class='auto',max_iter=1000)\n",
    "knn = KNeighborsClassifier(n_neighbors=4)\n",
    "svm = svm.SVC(kernel='linear')\n",
    "nb = GaussianNB()\n",
    "dt = DecisionTreeClassifier()"
   ]
  },
  {
   "cell_type": "code",
   "execution_count": 10,
   "id": "4001bd3e",
   "metadata": {},
   "outputs": [
    {
     "data": {
      "text/plain": [
       "DecisionTreeClassifier()"
      ]
     },
     "execution_count": 10,
     "metadata": {},
     "output_type": "execute_result"
    }
   ],
   "source": [
    "# Run classifiers on embeddings\n",
    "lr.fit(X_train, y_train)\n",
    "knn.fit(X_train, y_train)\n",
    "svm.fit(X_train, y_train)\n",
    "nb.fit(X_train, y_train)\n",
    "dt.fit(X_train, y_train)"
   ]
  },
  {
   "cell_type": "code",
   "execution_count": 11,
   "id": "820002b5",
   "metadata": {},
   "outputs": [],
   "source": [
    "# Predict for test\n",
    "lr_pred = lr.predict(X_test)\n",
    "knn_pred = knn.predict(X_test)\n",
    "svm_pred = svm.predict(X_test)\n",
    "nb_pred = nb.predict(X_test)\n",
    "dt_pred = dt.predict(X_test)"
   ]
  },
  {
   "cell_type": "code",
   "execution_count": 12,
   "id": "fee3ed1d",
   "metadata": {},
   "outputs": [],
   "source": [
    "# Accuracy and f1 scores\n",
    "lr_acc = accuracy_score(y_test,lr_pred)\n",
    "knn_acc = accuracy_score(y_test,knn_pred)\n",
    "svm_acc = accuracy_score(y_test,svm_pred)\n",
    "nb_acc = accuracy_score(y_test,nb_pred)\n",
    "dt_acc = accuracy_score(y_test,dt_pred)\n",
    "acc = [lr_acc,knn_acc,svm_acc,nb_acc,dt_acc]\n",
    "\n",
    "lr_f1_micro = f1_score(y_test,lr_pred, average='micro')\n",
    "knn_f1_micro = f1_score(y_test,knn_pred, average='micro')\n",
    "svm_f1_micro = f1_score(y_test,svm_pred, average='micro')\n",
    "nb_f1_micro = f1_score(y_test,nb_pred, average='micro')\n",
    "dt_f1_micro = f1_score(y_test,dt_pred, average='micro')\n",
    "micro = [lr_f1_micro,knn_f1_micro,svm_f1_micro,nb_f1_micro,dt_f1_micro]\n",
    "\n",
    "lr_f1_macro = f1_score(y_test,lr_pred, average='macro')\n",
    "knn_f1_macro = f1_score(y_test,knn_pred, average='macro')\n",
    "svm_f1_macro = f1_score(y_test,svm_pred, average='macro')\n",
    "nb_f1_macro = f1_score(y_test,nb_pred, average='macro')\n",
    "dt_f1_macro = f1_score(y_test,dt_pred, average='macro')\n",
    "macro = [lr_f1_macro,knn_f1_macro,svm_f1_macro,nb_f1_macro,dt_f1_macro]"
   ]
  },
  {
   "cell_type": "code",
   "execution_count": 13,
   "id": "d426081c",
   "metadata": {},
   "outputs": [
    {
     "data": {
      "text/html": [
       "<div>\n",
       "<style scoped>\n",
       "    .dataframe tbody tr th:only-of-type {\n",
       "        vertical-align: middle;\n",
       "    }\n",
       "\n",
       "    .dataframe tbody tr th {\n",
       "        vertical-align: top;\n",
       "    }\n",
       "\n",
       "    .dataframe thead th {\n",
       "        text-align: right;\n",
       "    }\n",
       "</style>\n",
       "<table border=\"1\" class=\"dataframe\">\n",
       "  <thead>\n",
       "    <tr style=\"text-align: right;\">\n",
       "      <th></th>\n",
       "      <th>classifier</th>\n",
       "      <th>accuracy</th>\n",
       "      <th>f1_micro</th>\n",
       "      <th>f1_macro</th>\n",
       "    </tr>\n",
       "  </thead>\n",
       "  <tbody>\n",
       "    <tr>\n",
       "      <th>0</th>\n",
       "      <td>KNN</td>\n",
       "      <td>0.800738</td>\n",
       "      <td>0.800738</td>\n",
       "      <td>0.795095</td>\n",
       "    </tr>\n",
       "    <tr>\n",
       "      <th>1</th>\n",
       "      <td>LR</td>\n",
       "      <td>0.804428</td>\n",
       "      <td>0.804428</td>\n",
       "      <td>0.792206</td>\n",
       "    </tr>\n",
       "    <tr>\n",
       "      <th>2</th>\n",
       "      <td>SVM</td>\n",
       "      <td>0.806273</td>\n",
       "      <td>0.806273</td>\n",
       "      <td>0.799754</td>\n",
       "    </tr>\n",
       "    <tr>\n",
       "      <th>3</th>\n",
       "      <td>NB</td>\n",
       "      <td>0.743542</td>\n",
       "      <td>0.743542</td>\n",
       "      <td>0.744498</td>\n",
       "    </tr>\n",
       "    <tr>\n",
       "      <th>4</th>\n",
       "      <td>DT</td>\n",
       "      <td>0.647601</td>\n",
       "      <td>0.647601</td>\n",
       "      <td>0.619054</td>\n",
       "    </tr>\n",
       "  </tbody>\n",
       "</table>\n",
       "</div>"
      ],
      "text/plain": [
       "  classifier  accuracy  f1_micro  f1_macro\n",
       "0        KNN  0.800738  0.800738  0.795095\n",
       "1         LR  0.804428  0.804428  0.792206\n",
       "2        SVM  0.806273  0.806273  0.799754\n",
       "3         NB  0.743542  0.743542  0.744498\n",
       "4         DT  0.647601  0.647601  0.619054"
      ]
     },
     "execution_count": 13,
     "metadata": {},
     "output_type": "execute_result"
    }
   ],
   "source": [
    "scores = pd.DataFrame(data=['KNN','LR','SVM','NB','DT'], columns=['classifier'])\n",
    "scores['accuracy'] = acc\n",
    "scores['f1_micro'] = micro\n",
    "scores['f1_macro'] = macro\n",
    "scores"
   ]
  },
  {
   "cell_type": "code",
   "execution_count": 14,
   "id": "4c4b9eab",
   "metadata": {},
   "outputs": [
    {
     "name": "stderr",
     "output_type": "stream",
     "text": [
      "[1205/195001.176664:ERROR:xattr.cc(63)] setxattr org.chromium.crashpad.database.initialized on file /var/folders/76/p5884tp57fj2wy8qn17tpc6c0000gn/T/: Operation not permitted (1)\n",
      "[1205/195001.179021:ERROR:file_io.cc(94)] ReadExactly: expected 8, observed 0\n",
      "[1205/195001.179930:ERROR:xattr.cc(63)] setxattr org.chromium.crashpad.database.initialized on file /var/folders/76/p5884tp57fj2wy8qn17tpc6c0000gn/T/: Operation not permitted (1)\n",
      "[1205/195002.186322:INFO:headless_shell.cc(653)] Written to file /var/folders/76/p5884tp57fj2wy8qn17tpc6c0000gn/T/tmpec8ynftx/temp.png.\n"
     ]
    }
   ],
   "source": [
    "import dataframe_image as dfi\n",
    "dfi.export(scores,'images/init_classifier_scores.png')"
   ]
  },
  {
   "cell_type": "markdown",
   "id": "2e741fe9",
   "metadata": {},
   "source": [
    "## TSNE plot with initial embeddings"
   ]
  },
  {
   "cell_type": "code",
   "execution_count": 15,
   "id": "5c2f6d35",
   "metadata": {},
   "outputs": [
    {
     "name": "stderr",
     "output_type": "stream",
     "text": [
      "/Users/mamatashrestha/miniconda3/envs/ml_env/lib/python3.9/site-packages/sklearn/manifold/_t_sne.py:780: FutureWarning: The default initialization in TSNE will change from 'random' to 'pca' in 1.2.\n",
      "  warnings.warn(\n",
      "/Users/mamatashrestha/miniconda3/envs/ml_env/lib/python3.9/site-packages/sklearn/manifold/_t_sne.py:790: FutureWarning: The default learning rate in TSNE will change from 200.0 to 'auto' in 1.2.\n",
      "  warnings.warn(\n"
     ]
    },
    {
     "name": "stdout",
     "output_type": "stream",
     "text": [
      "t-SNE done! Time elapsed: 5.971826791763306 seconds\n"
     ]
    },
    {
     "name": "stderr",
     "output_type": "stream",
     "text": [
      "/var/folders/76/p5884tp57fj2wy8qn17tpc6c0000gn/T/ipykernel_7598/2947478454.py:35: DeprecationWarning: `np.int` is a deprecated alias for the builtin `int`. To silence this warning, use `int` by itself. Doing this will not modify any behavior and is safe. When replacing `np.int`, you may wish to use e.g. `np.int64` or `np.int32` to specify the precision. If you wish to review your current use, check the release note link for additional information.\n",
      "Deprecated in NumPy 1.20; for more details and guidance: https://numpy.org/devdocs/release/1.20.0-notes.html#deprecations\n",
      "  sc = ax.scatter(x[:,0], x[:,1],  c=palette[colors.astype(np.int)], cmap=plt.cm.get_cmap('Paired'))\n"
     ]
    },
    {
     "data": {
      "text/plain": [
       "(<Figure size 576x576 with 1 Axes>,\n",
       " <AxesSubplot:>,\n",
       " <matplotlib.collections.PathCollection at 0x7fbbabe0a550>,\n",
       " [Text(-25.119549, 40.640274, 'Case_Based'),\n",
       "  Text(-58.10378, -5.2547655, 'Genetic_Algorithms'),\n",
       "  Text(3.849964, -28.30635, 'Neural_Networks'),\n",
       "  Text(44.313652, -10.2837925, 'Probabilistic_Methods'),\n",
       "  Text(-20.16911, 3.2534142, 'Reinforcement_Learning'),\n",
       "  Text(7.090315, 42.677887, 'Rule_Learning'),\n",
       "  Text(16.41138, 33.579437, 'Theory')])"
      ]
     },
     "execution_count": 15,
     "metadata": {},
     "output_type": "execute_result"
    },
    {
     "data": {
      "image/png": "[encoded data removed]",
      "text/plain": [
       "<Figure size 576x576 with 1 Axes>"
      ]
     },
     "metadata": {
      "needs_background": "light"
     },
     "output_type": "display_data"
    }
   ],
   "source": [
    "plot.draw_plot(emb_df, y, 'images/embedding_init.png')"
   ]
  }
 ],
 "metadata": {
  "kernelspec": {
   "display_name": "embeddings",
   "language": "python",
   "name": "embeddings"
  },
  "language_info": {
   "codemirror_mode": {
    "name": "ipython",
    "version": 3
   },
   "file_extension": ".py",
   "mimetype": "text/x-python",
   "name": "python",
   "nbconvert_exporter": "python",
   "pygments_lexer": "ipython3",
   "version": "3.9.6"
  },
  "toc": {
   "base_numbering": 1,
   "nav_menu": {},
   "number_sections": true,
   "sideBar": true,
   "skip_h1_title": false,
   "title_cell": "Table of Contents",
   "title_sidebar": "Contents",
   "toc_cell": false,
   "toc_position": {},
   "toc_section_display": true,
   "toc_window_display": true
  },
  "varInspector": {
   "cols": {
    "lenName": 16,
    "lenType": 16,
    "lenVar": 40
   },
   "kernels_config": {
    "python": {
     "delete_cmd_postfix": "",
     "delete_cmd_prefix": "del ",
     "library": "var_list.py",
     "varRefreshCmd": "print(var_dic_list())"
    },
    "r": {
     "delete_cmd_postfix": ") ",
     "delete_cmd_prefix": "rm(",
     "library": "var_list.r",
     "varRefreshCmd": "cat(var_dic_list()) "
    }
   },
   "types_to_exclude": [
    "module",
    "function",
    "builtin_function_or_method",
    "instance",
    "_Feature"
   ],
   "window_display": false
  }
 },
 "nbformat": 4,
 "nbformat_minor": 5
}

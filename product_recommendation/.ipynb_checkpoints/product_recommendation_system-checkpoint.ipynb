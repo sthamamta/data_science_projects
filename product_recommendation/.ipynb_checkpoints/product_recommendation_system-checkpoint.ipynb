{
 "cells": [
  {
   "cell_type": "markdown",
   "id": "f9a9a5eb",
   "metadata": {},
   "source": [
    "# Project Description"
   ]
  },
  {
   "cell_type": "markdown",
   "id": "48391dc6",
   "metadata": {},
   "source": [
    "In this project, we will implement a recommendation system using methods:\n",
    "1. **Product-Based Filtering**: Product based filtering recommend the product that are similar to the product that user has previously bought. It depends on the characteristics of the product, matching the product based on the rating from users.\n",
    "\n",
    "2. **Product Popularity-Based Filtering**: Product popularity based filtering recommend the product that are popular and frequently bought and rated highly by the users. Popularity may vary depending on the criteria we set.\n",
    "\n",
    "3. **User-Based Filtering**: User-based filtering recommends the product based on the similar user.. It identifies users with similar preferences and suggests products based on their collective behavior.\n",
    "\n",
    "For preprocessing, we will reduce the dataset rows so that we do not encounter memory issues while calculating the user-verses-product matrix. \n",
    "We perform EDA to indentify the product with highest rating, user whow frequently provide rating ans so on.\n",
    "\n",
    "The dataset has following features:\n",
    "1. UserID\n",
    "2. ProductID\n",
    "3. Rating\n",
    "4. Time\n"
   ]
  },
  {
   "cell_type": "markdown",
   "id": "1d285645",
   "metadata": {},
   "source": [
    "# Imports"
   ]
  },
  {
   "cell_type": "code",
   "execution_count": 1,
   "id": "f29107b5",
   "metadata": {},
   "outputs": [],
   "source": [
    "import pandas as pd\n",
    "import numpy as np\n",
    "import seaborn as sns\n",
    "\n",
    "import matplotlib.pyplot as plt\n",
    "import seaborn as sns\n",
    "from sklearn.metrics.pairwise import cosine_similarity\n",
    "\n",
    "\n",
    "import warnings\n",
    "warnings.filterwarnings(\"ignore\")"
   ]
  },
  {
   "cell_type": "code",
   "execution_count": 2,
   "id": "2a46a423",
   "metadata": {},
   "outputs": [],
   "source": [
    "df = pd.read_csv('ratings_Electronics.csv',header = None )\n",
    "df.columns = [\"ProductID\" , \"UserID\" , \"Rating\" , \"Time\" ] \n",
    "df['Rating'] = df['Rating'].astype('int8')\n",
    "# for simplicity we will remove the time feature \n",
    "df.drop('Time' , axis = 1 , inplace = True)"
   ]
  },
  {
   "cell_type": "code",
   "execution_count": 3,
   "id": "a04a121e",
   "metadata": {},
   "outputs": [
    {
     "data": {
      "text/html": [
       "<div>\n",
       "<style scoped>\n",
       "    .dataframe tbody tr th:only-of-type {\n",
       "        vertical-align: middle;\n",
       "    }\n",
       "\n",
       "    .dataframe tbody tr th {\n",
       "        vertical-align: top;\n",
       "    }\n",
       "\n",
       "    .dataframe thead th {\n",
       "        text-align: right;\n",
       "    }\n",
       "</style>\n",
       "<table border=\"1\" class=\"dataframe\">\n",
       "  <thead>\n",
       "    <tr style=\"text-align: right;\">\n",
       "      <th></th>\n",
       "      <th>ProductID</th>\n",
       "      <th>UserID</th>\n",
       "      <th>Rating</th>\n",
       "    </tr>\n",
       "  </thead>\n",
       "  <tbody>\n",
       "    <tr>\n",
       "      <th>0</th>\n",
       "      <td>AKM1MP6P0OYPR</td>\n",
       "      <td>0132793040</td>\n",
       "      <td>5</td>\n",
       "    </tr>\n",
       "    <tr>\n",
       "      <th>1</th>\n",
       "      <td>A2CX7LUOHB2NDG</td>\n",
       "      <td>0321732944</td>\n",
       "      <td>5</td>\n",
       "    </tr>\n",
       "    <tr>\n",
       "      <th>2</th>\n",
       "      <td>A2NWSAGRHCP8N5</td>\n",
       "      <td>0439886341</td>\n",
       "      <td>1</td>\n",
       "    </tr>\n",
       "    <tr>\n",
       "      <th>3</th>\n",
       "      <td>A2WNBOD3WNDNKT</td>\n",
       "      <td>0439886341</td>\n",
       "      <td>3</td>\n",
       "    </tr>\n",
       "    <tr>\n",
       "      <th>4</th>\n",
       "      <td>A1GI0U4ZRJA8WN</td>\n",
       "      <td>0439886341</td>\n",
       "      <td>1</td>\n",
       "    </tr>\n",
       "  </tbody>\n",
       "</table>\n",
       "</div>"
      ],
      "text/plain": [
       "        ProductID      UserID  Rating\n",
       "0   AKM1MP6P0OYPR  0132793040       5\n",
       "1  A2CX7LUOHB2NDG  0321732944       5\n",
       "2  A2NWSAGRHCP8N5  0439886341       1\n",
       "3  A2WNBOD3WNDNKT  0439886341       3\n",
       "4  A1GI0U4ZRJA8WN  0439886341       1"
      ]
     },
     "execution_count": 3,
     "metadata": {},
     "output_type": "execute_result"
    }
   ],
   "source": [
    "df.head()"
   ]
  },
  {
   "cell_type": "markdown",
   "id": "d29466a8",
   "metadata": {},
   "source": [
    "# Check data info"
   ]
  },
  {
   "cell_type": "code",
   "execution_count": 4,
   "id": "0c87d6fb",
   "metadata": {},
   "outputs": [
    {
     "name": "stdout",
     "output_type": "stream",
     "text": [
      "Shape of dataframe (7824482, 3)\n"
     ]
    }
   ],
   "source": [
    "print(\"Shape of dataframe\", df.shape)"
   ]
  },
  {
   "cell_type": "markdown",
   "id": "9b81132a",
   "metadata": {},
   "source": [
    "# Exploratory data analysis"
   ]
  },
  {
   "cell_type": "code",
   "execution_count": 5,
   "id": "119382bc",
   "metadata": {},
   "outputs": [
    {
     "data": {
      "image/png": "[encoded data removed]",
      "text/plain": [
       "<Figure size 576x432 with 1 Axes>"
      ]
     },
     "metadata": {
      "needs_background": "light"
     },
     "output_type": "display_data"
    }
   ],
   "source": [
    "# count the occurrence of each rating value\n",
    "rating_counts = df['Rating'].value_counts().sort_index()\n",
    "\n",
    "# Plot the bar plot\n",
    "plt.figure(figsize=(8, 6))\n",
    "plt.bar(rating_counts.index, rating_counts.values)\n",
    "plt.xlabel('Rating', fontsize=11)\n",
    "plt.ylabel('Count', fontsize=11)\n",
    "plt.title('Count of Each Rating Value', fontsize=17)\n",
    "plt.xticks(rating_counts.index)\n",
    "plt.show()"
   ]
  },
  {
   "cell_type": "markdown",
   "id": "88def518",
   "metadata": {},
   "source": [
    "We can see that people have rate the product 5 most frequently compared to other rating value."
   ]
  },
  {
   "cell_type": "code",
   "execution_count": 6,
   "id": "4463d5fd",
   "metadata": {},
   "outputs": [
    {
     "name": "stdout",
     "output_type": "stream",
     "text": [
      "User who rated a product as 5 most frequently: B0074BW614\n"
     ]
    }
   ],
   "source": [
    "# get user who have frequently rated the product as 5\n",
    "rating_5_df = df[df['Rating'] == 5]\n",
    "\n",
    "most_frequent_user_id = rating_5_df['UserID'].value_counts().idxmax()\n",
    "\n",
    "print(\"User who rated a product as 5 most frequently:\", most_frequent_user_id)"
   ]
  },
  {
   "cell_type": "code",
   "execution_count": 7,
   "id": "161a9a7c",
   "metadata": {},
   "outputs": [
    {
     "name": "stdout",
     "output_type": "stream",
     "text": [
      "User who rated a product as 1 most frequently: B00DR0PDNE\n"
     ]
    }
   ],
   "source": [
    "# get user who have frequently rated the product as 1\n",
    "rating_1_df = df[df['Rating'] == 1]\n",
    "\n",
    "most_frequent_user_id = rating_1_df['UserID'].value_counts().idxmax()\n",
    "\n",
    "print(\"User who rated a product as 1 most frequently:\", most_frequent_user_id)"
   ]
  },
  {
   "cell_type": "code",
   "execution_count": 8,
   "id": "3853b212",
   "metadata": {},
   "outputs": [
    {
     "name": "stdout",
     "output_type": "stream",
     "text": [
      "Product which was rated as 5 most frequently: A680RUE1FDO8B\n"
     ]
    }
   ],
   "source": [
    "# get product which was frequently rated as 5\n",
    "rating_5_df = df[df['Rating'] == 5]\n",
    "\n",
    "most_frequent_product_id = rating_5_df['ProductID'].value_counts().idxmax()\n",
    "\n",
    "print(\"Product which was rated as 5 most frequently:\", most_frequent_product_id)"
   ]
  },
  {
   "cell_type": "code",
   "execution_count": 9,
   "id": "8b1a76fb",
   "metadata": {},
   "outputs": [
    {
     "name": "stdout",
     "output_type": "stream",
     "text": [
      "Product which was rated as 1 most frequently: A20DZX38KRBIT8\n"
     ]
    }
   ],
   "source": [
    "# get product which was frequently rated as 1\n",
    "rating_1_df = df[df['Rating'] == 1]\n",
    "\n",
    "most_frequent_product_id = rating_1_df['ProductID'].value_counts().idxmax()\n",
    "\n",
    "print(\"Product which was rated as 1 most frequently:\", most_frequent_product_id)"
   ]
  },
  {
   "cell_type": "markdown",
   "id": "9564bf4d",
   "metadata": {},
   "source": [
    "# Preprocessing data"
   ]
  },
  {
   "cell_type": "code",
   "execution_count": 10,
   "id": "a8a685fe",
   "metadata": {},
   "outputs": [
    {
     "name": "stdout",
     "output_type": "stream",
     "text": [
      "shape of dataset (7824482, 3)\n"
     ]
    }
   ],
   "source": [
    "print(\"shape of dataset\", df.shape)"
   ]
  },
  {
   "cell_type": "markdown",
   "id": "8f59db7f",
   "metadata": {},
   "source": [
    "The dataset is quite large, and it will become even larger when we generate a user-versus-product matrix. To address this, we plan to reduce the dataset's size. Instead of simply truncating the data, we will remove products that receive rare ratings and users who rarely rate products. By doing this, we will have complete data for a select few products and users compared to the original dataframe. However, randomly truncating the data would result in incomplete reviews for the included users and products, which would effect the accuracy of recommendations. It is preferable to maintain complete data for a smaller subset of users and products rather than having incomplete information for a larger number of users and products"
   ]
  },
  {
   "cell_type": "code",
   "execution_count": 11,
   "id": "a804f268",
   "metadata": {},
   "outputs": [
    {
     "name": "stdout",
     "output_type": "stream",
     "text": [
      "Unique User IDs with Occurrence Count:\n",
      "            UserID  occurrence_count\n",
      "0       B0074BW614             18244\n",
      "1       B00DR0PDNE             16454\n",
      "2       B007WTAJTO             14172\n",
      "3       B0019EHU8G             12285\n",
      "4       B006GWO5WK             12226\n",
      "...            ...               ...\n",
      "475997  B004WL91KI                 1\n",
      "475998  B004WL9FK4                 1\n",
      "475999  B004WL9Q2Q                 1\n",
      "476000  B004WL9R8O                 1\n",
      "476001  BT008V9J9U                 1\n",
      "\n",
      "[476002 rows x 2 columns]\n",
      "\n",
      "Unique Product IDs with Occurrence Count:\n",
      "              ProductID  occurrence_count\n",
      "0         A5JLAU2ARJ0BO               520\n",
      "1          ADLVFFE4VBT8               501\n",
      "2        A3OXHLG6DIBRW8               498\n",
      "3          A6FIAB28IS79               431\n",
      "4         A680RUE1FDO8B               406\n",
      "...                 ...               ...\n",
      "4201691  A1IUWX30VMVJGP                 1\n",
      "4201692  A1WBP7XSZI6AUL                 1\n",
      "4201693  A2K7UNJHE9ZR0G                 1\n",
      "4201694  A1A6SIW6EWF6FP                 1\n",
      "4201695  A10M2KEFPEQDHN                 1\n",
      "\n",
      "[4201696 rows x 2 columns]\n"
     ]
    }
   ],
   "source": [
    "# Count unique user IDs along with their occurence count\n",
    "user_counts = df['UserID'].value_counts().reset_index()\n",
    "user_counts.columns = ['UserID', 'occurrence_count']\n",
    "\n",
    "# Count unique product IDs along with their occurence count\n",
    "product_counts = df['ProductID'].value_counts().reset_index()\n",
    "product_counts.columns = ['ProductID', 'occurrence_count']\n",
    "\n",
    "print(\"Unique User IDs with Occurrence Count:\")\n",
    "print(user_counts)\n",
    "\n",
    "print(\"\\nUnique Product IDs with Occurrence Count:\")\n",
    "print(product_counts)"
   ]
  },
  {
   "cell_type": "code",
   "execution_count": 12,
   "id": "8159db84",
   "metadata": {},
   "outputs": [
    {
     "name": "stdout",
     "output_type": "stream",
     "text": [
      "The shape of dataframe after removing product which are rarely rated (rated by less than 50 users) : (125871, 3)\n"
     ]
    }
   ],
   "source": [
    "min_occurrence = 50\n",
    "product_filtered_df = df[df['ProductID'].isin(product_counts[product_counts['occurrence_count'] >= min_occurrence]['ProductID'])]\n",
    "print(\"The shape of dataframe after removing product which are rarely rated (rated by less than 50 users) :\",product_filtered_df.shape)"
   ]
  },
  {
   "cell_type": "code",
   "execution_count": 13,
   "id": "b304ff9b",
   "metadata": {},
   "outputs": [
    {
     "name": "stdout",
     "output_type": "stream",
     "text": [
      "The shape of dataframe after removing user which are rarely rated product(rated less than 50 products) : (79182, 3)\n"
     ]
    }
   ],
   "source": [
    "min_occurrence = 50\n",
    "user_filtered_df = product_filtered_df[product_filtered_df['UserID'].isin(user_counts[user_counts['occurrence_count'] >= min_occurrence]['UserID'])]\n",
    "print(\"The shape of dataframe after removing user which are rarely rated product(rated less than 50 products) :\",user_filtered_df.shape)"
   ]
  },
  {
   "cell_type": "code",
   "execution_count": 14,
   "id": "30308bc7",
   "metadata": {},
   "outputs": [
    {
     "name": "stdout",
     "output_type": "stream",
     "text": [
      "shape of dataset (79182, 3)\n"
     ]
    }
   ],
   "source": [
    "print(\"shape of dataset\", user_filtered_df.shape)"
   ]
  },
  {
   "cell_type": "code",
   "execution_count": 15,
   "id": "1d25e8fa",
   "metadata": {},
   "outputs": [
    {
     "name": "stdout",
     "output_type": "stream",
     "text": [
      "<class 'pandas.core.frame.DataFrame'>\n",
      "Int64Index: 79182 entries, 492 to 7824221\n",
      "Data columns (total 3 columns):\n",
      " #   Column     Non-Null Count  Dtype \n",
      "---  ------     --------------  ----- \n",
      " 0   ProductID  79182 non-null  object\n",
      " 1   UserID     79182 non-null  object\n",
      " 2   Rating     79182 non-null  int8  \n",
      "dtypes: int8(1), object(2)\n",
      "memory usage: 1.9+ MB\n"
     ]
    }
   ],
   "source": [
    "#check data type of features\n",
    "user_filtered_df.info()"
   ]
  },
  {
   "cell_type": "code",
   "execution_count": 16,
   "id": "0deed237",
   "metadata": {},
   "outputs": [
    {
     "data": {
      "text/plain": [
       "ProductID    0\n",
       "UserID       0\n",
       "Rating       0\n",
       "dtype: int64"
      ]
     },
     "execution_count": 16,
     "metadata": {},
     "output_type": "execute_result"
    }
   ],
   "source": [
    "# check for missing values\n",
    "user_filtered_df.isnull().sum()"
   ]
  },
  {
   "cell_type": "markdown",
   "id": "b338f837",
   "metadata": {},
   "source": [
    "Since we do not have any missing value we do not need to handle the missing values."
   ]
  },
  {
   "cell_type": "markdown",
   "id": "e19d6884",
   "metadata": {},
   "source": [
    "# Item based recommendation"
   ]
  },
  {
   "cell_type": "markdown",
   "id": "4a8d0b1b",
   "metadata": {},
   "source": [
    "## Cosine similarity based"
   ]
  },
  {
   "cell_type": "code",
   "execution_count": 17,
   "id": "af1fa6c6",
   "metadata": {},
   "outputs": [],
   "source": [
    "matrix = user_filtered_df.pivot_table(index= ['ProductID'] , columns = ['UserID'] , values= 'Rating').fillna(0) \n",
    "def find_similar_product(matrix,current_product_index, k  ) : \n",
    "\n",
    "    curr_product = matrix[matrix.index == current_product_index]\n",
    "    print(curr_product.shape)\n",
    "    other_products = matrix[matrix.index != current_product_index]\n",
    "    similarities = cosine_similarity(curr_product,other_products)[0].tolist()\n",
    "\n",
    "    indices = other_products.index.tolist()\n",
    "\n",
    "    index_similarity = dict(zip(indices, similarities))\n",
    "\n",
    "    # Sort the dictionary by values in descending order\n",
    "    sorted_dict = dict(sorted(index_similarity.items(), key=lambda item: item[1], reverse=True))\n",
    "\n",
    "    l = len(sorted_dict)  \n",
    "  \n",
    "\n",
    "    products =  list(sorted_dict.items())[:min(l , k )]\n",
    "\n",
    "    return products \n",
    "\n",
    "def getRecommendations(df, matrix , user  , k ) : \n",
    "\n",
    "    last_product = df[df['UserID'] == user ].ProductID.values[0]\n",
    "    return find_similar_product(matrix,last_product ,  10  )  \n"
   ]
  },
  {
   "cell_type": "code",
   "execution_count": 18,
   "id": "ce3a0534",
   "metadata": {},
   "outputs": [
    {
     "name": "stdout",
     "output_type": "stream",
     "text": [
      "(1, 16993)\n",
      "[('ADZF3QDGSZE7K', 0.07460086063227521), ('A2WDCAMKCCP1UR', 0.07443394228040227), ('ASFW4ZMNZJKDA', 0.06933316668238468), ('AAXAKFQEAQPWC', 0.06818816410743525), ('A3J2YU2D9BH2J7', 0.06386190408340514), ('A195EZSQDW3E21', 0.06276605454133181), ('A3IK2VCQ007CJ', 0.06254548689221977), ('A2Y4H3PXB07WQI', 0.061683203197057675), ('A32NEDX6UVV8DE', 0.05883256544369696), ('A2J3VCGBNDLAKF', 0.05842182014721399)]\n"
     ]
    }
   ],
   "source": [
    "print(getRecommendations(user_filtered_df,matrix,user_filtered_df.UserID.values[0] , 10))"
   ]
  },
  {
   "cell_type": "markdown",
   "id": "5c726c60",
   "metadata": {},
   "source": [
    "# Product popularity based recommendation"
   ]
  },
  {
   "cell_type": "markdown",
   "id": "f631f89f",
   "metadata": {},
   "source": [
    "We can create a product recommendation system based on product popularity, where we recommend the most popular products. To categorize a product as popular, we consider factors such as its total number of ratings, average rating, the number of 5-star ratings, and the rarity of receiving a 1-star rating. This ensures that the recommended products are not only popular but also highly rated and rarely receive 1-star ratings.\n",
    "\n",
    "The popularity-based recommendation systems do not consider user behavior or individual user preferences. So it might be as effective as other recommendation methods."
   ]
  },
  {
   "cell_type": "code",
   "execution_count": 19,
   "id": "b32c5289",
   "metadata": {},
   "outputs": [],
   "source": [
    "def get_top_n_popular_product(df, n):\n",
    "\n",
    "    popularity_df = df.groupby('ProductID').agg(\n",
    "        rating_count = pd.NamedAgg(column='UserID', aggfunc='count'),\n",
    "        avg_rating = pd.NamedAgg(column='Rating', aggfunc='mean'),\n",
    "        rating_5_count = pd.NamedAgg(column='Rating', aggfunc=lambda x: (x == 5).sum()),\n",
    "        rating_1_count = pd.NamedAgg(column='Rating', aggfunc=lambda x: (x == 1).sum())\n",
    "    ).reset_index()\n",
    "\n",
    "    popularity_df.head()\n",
    "\n",
    "    sorted_popularity = popularity_df.sort_values(by=['rating_count', 'avg_rating', 'rating_5_count', 'rating_1_count'], ascending=[False, False, False, True])\n",
    "\n",
    "    top_n_recommendations = sorted_popularity.head(n)  \n",
    "\n",
    "    return top_n_recommendations\n",
    "    "
   ]
  },
  {
   "cell_type": "code",
   "execution_count": 20,
   "id": "89ae7db2",
   "metadata": {},
   "outputs": [
    {
     "name": "stdout",
     "output_type": "stream",
     "text": [
      "Top 10 Popular rating are \n",
      "            ProductID  rating_count  avg_rating  rating_5_count  rating_1_count\n",
      "1287    ADLVFFE4VBT8           310    4.332258             178               8\n",
      "1086  A3OXHLG6DIBRW8           286    4.475524             156               1\n",
      "1210    A6FIAB28IS79           284    4.288732             154               2\n",
      "1209   A680RUE1FDO8B           271    4.531365             208               8\n",
      "264   A1ODOGXEYECQQ8           221    4.384615             107               0\n",
      "1203   A5JLAU2ARJ0BO           213    3.798122             105              26\n",
      "1439   ARBKYIVNYWK3C           204    4.431373             113               1\n",
      "903   A36K2N527TXXJN           202    4.529703             120               1\n",
      "790   A2XRMQA6PJ5ZJ8           183    4.683060             136               1\n",
      "462   A25C2M3QF9G7OQ           176    4.590909             124               0\n"
     ]
    }
   ],
   "source": [
    "print(\"Top 10 Popular rating are \\n\", get_top_n_popular_product(user_filtered_df,10))"
   ]
  },
  {
   "cell_type": "markdown",
   "id": "d8f5a847",
   "metadata": {},
   "source": [
    "# User based recommendation\n"
   ]
  },
  {
   "cell_type": "markdown",
   "id": "ecf7e852",
   "metadata": {},
   "source": [
    "In user based recommendation, we recommend the product that are brought by other user who have similar preference. "
   ]
  },
  {
   "cell_type": "markdown",
   "id": "7bfb14e5",
   "metadata": {},
   "source": [
    "## Cosine Similarity based"
   ]
  },
  {
   "cell_type": "code",
   "execution_count": 21,
   "id": "f1714df0",
   "metadata": {},
   "outputs": [],
   "source": [
    "matrix = user_filtered_df.pivot_table(index= ['UserID'] , columns = ['ProductID'] , values= 'Rating').fillna(0) \n",
    "\n",
    "def find_similar_user(matrix,current_user_index, k  ) : \n",
    "\n",
    "    curr_user = matrix[matrix.index == current_user_index]\n",
    "    other_users = matrix[matrix.index != current_user_index]\n",
    "    similarities = cosine_similarity(curr_user,other_users)[0].tolist()\n",
    "\n",
    "    indices = other_users.index.tolist()\n",
    "\n",
    "    index_similarity = dict(zip(indices, similarities))\n",
    "\n",
    "    sorted_dict = dict(sorted(index_similarity.items(), key=lambda item: item[1], reverse=True))\n",
    "\n",
    "    l = len(sorted_dict)  \n",
    "  \n",
    "    users =  list(sorted_dict.items())[:min(l , k )]\n",
    "\n",
    "    return users \n",
    "\n",
    "def getRecommendations(df, matrix , user  , k ) : \n",
    "    \n",
    "    #find 100 similar users\n",
    "    users = find_similar_user(matrix,user , 100 )\n",
    "    users = [tup[0] for tup in users]\n",
    "    \n",
    "    products = df[df['UserID'] == user ].ProductID \n",
    "\n",
    "    #find the product similar to similar users\n",
    "    similar_products = df[df['UserID'].isin(users)][['ProductID' , 'Rating']]\n",
    "    sorted_products = similar_products.groupby('ProductID').agg('median').sort_values(by = \"Rating\" , ascending = False )\n",
    "\n",
    "    l = len(sorted_products ) \n",
    "\n",
    "    return sorted_products[ : min( l , k )]\n"
   ]
  },
  {
   "cell_type": "code",
   "execution_count": 22,
   "id": "ada3f99b",
   "metadata": {},
   "outputs": [
    {
     "name": "stdout",
     "output_type": "stream",
     "text": [
      "                Rating\n",
      "ProductID             \n",
      "A100WO06OQR8BQ     5.0\n",
      "A37D1ZP8GBHE38     5.0\n",
      "A2ZGDHLJ85T6AD     5.0\n",
      "A2ZR3YTMEEIIZ4     5.0\n",
      "A3094EPI56GKZ6     5.0\n",
      "A30XZK10EZN9V4     5.0\n",
      "A32O5FZH994CNY     5.0\n",
      "A33152QEGO2MZN     5.0\n",
      "A33XMCG1UFDSY2     5.0\n",
      "A341HCMGNZCBIT     5.0\n"
     ]
    }
   ],
   "source": [
    "print(getRecommendations(user_filtered_df,matrix,user_filtered_df.UserID.values[0] , 10))"
   ]
  }
 ],
 "metadata": {
  "kernelspec": {
   "display_name": "data_science_env",
   "language": "python",
   "name": "data_science_env"
  },
  "language_info": {
   "codemirror_mode": {
    "name": "ipython",
    "version": 3
   },
   "file_extension": ".py",
   "mimetype": "text/x-python",
   "name": "python",
   "nbconvert_exporter": "python",
   "pygments_lexer": "ipython3",
   "version": "3.9.7"
  },
  "toc": {
   "base_numbering": 1,
   "nav_menu": {},
   "number_sections": true,
   "sideBar": true,
   "skip_h1_title": false,
   "title_cell": "Table of Contents",
   "title_sidebar": "Contents",
   "toc_cell": false,
   "toc_position": {},
   "toc_section_display": true,
   "toc_window_display": false
  }
 },
 "nbformat": 4,
 "nbformat_minor": 5
}
